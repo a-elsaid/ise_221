{
 "cells": [
  {
   "cell_type": "markdown",
   "id": "a62c31b5-2429-4204-8b52-1e27f989edd3",
   "metadata": {
    "id": "a62c31b5-2429-4204-8b52-1e27f989edd3"
   },
   "source": [
    "# Python in Brief"
   ]
  },
  {
   "cell_type": "markdown",
   "id": "9acbf828-6b54-4cc0-b3bf-81b65537fb21",
   "metadata": {
    "id": "9acbf828-6b54-4cc0-b3bf-81b65537fb21"
   },
   "source": [
    "## Pyhton Syntax:\n",
    "- It's like telling a story to the computer\n",
    "- A story about how to work on a problem\n",
    "\n",
    "sentence \\\n",
    "sentence \\\n",
    "grouping sentences: \\\n",
    "    &ensp;&ensp;&ensp;&ensp;sentence \\\n",
    "    &ensp;&ensp;&ensp;&ensp;sentence \\\n",
    "    &ensp;&ensp;&ensp;&ensp;. \\\n",
    "    &ensp;&ensp;&ensp;&ensp;. \\\n",
    "    &ensp;&ensp;&ensp;&ensp;."
   ]
  },
  {
   "cell_type": "markdown",
   "id": "a7ed8c0a-400c-4af4-9833-a027e7aae1e3",
   "metadata": {
    "id": "a7ed8c0a-400c-4af4-9833-a027e7aae1e3"
   },
   "source": [
    "### Assignment Operator"
   ]
  },
  {
   "cell_type": "code",
   "execution_count": null,
   "id": "21bf9acc-f28b-409c-94e9-1c6b6f249a57",
   "metadata": {
    "id": "21bf9acc-f28b-409c-94e9-1c6b6f249a57",
    "outputId": "a55680b6-c35e-44b6-cd7c-554ece01b89a"
   },
   "outputs": [
    {
     "name": "stdin",
     "output_type": "stream",
     "text": [
      "Please Enter a Name:  Ahmed\n"
     ]
    },
    {
     "name": "stdout",
     "output_type": "stream",
     "text": [
      "The name entered is:  Ahmed\n"
     ]
    }
   ],
   "source": [
    "x = 3 # value assignment to a variable\n",
    "y = x\n",
    "name = input('Please Enter a Name: ') # assigning a value passed from the user using input()\n",
    "print ('The name entered is: ', z)"
   ]
  },
  {
   "cell_type": "markdown",
   "id": "b27fb74f-fb73-42a0-af11-85e8ed6a9ca7",
   "metadata": {
    "id": "b27fb74f-fb73-42a0-af11-85e8ed6a9ca7"
   },
   "source": [
    "### Casting Value"
   ]
  },
  {
   "cell_type": "code",
   "execution_count": null,
   "id": "bcaec570-d45e-4b04-88ab-c203a68f00a5",
   "metadata": {
    "id": "bcaec570-d45e-4b04-88ab-c203a68f00a5",
    "outputId": "f49f487e-1481-4395-8e3f-008b785871f1"
   },
   "outputs": [
    {
     "name": "stdin",
     "output_type": "stream",
     "text": [
      "Enter a Value: 3.1\n"
     ]
    },
    {
     "name": "stdout",
     "output_type": "stream",
     "text": [
      "<class 'str'>\n",
      "Can't add Integer to a String... Error Msg: can only concatenate str (not \"int\") to str\n"
     ]
    },
    {
     "ename": "ValueError",
     "evalue": "invalid literal for int() with base 10: '3.1'",
     "output_type": "error",
     "traceback": [
      "\u001b[0;31m---------------------------------------------------------------------------\u001b[0m",
      "\u001b[0;31mValueError\u001b[0m                                Traceback (most recent call last)",
      "Input \u001b[0;32mIn [19]\u001b[0m, in \u001b[0;36m<cell line: 8>\u001b[0;34m()\u001b[0m\n\u001b[1;32m      6\u001b[0m \u001b[38;5;28;01mexcept\u001b[39;00m \u001b[38;5;167;01mException\u001b[39;00m \u001b[38;5;28;01mas\u001b[39;00m error:\n\u001b[1;32m      7\u001b[0m     \u001b[38;5;28mprint\u001b[39m(\u001b[38;5;124mf\u001b[39m\u001b[38;5;124m\"\u001b[39m\u001b[38;5;124mCan\u001b[39m\u001b[38;5;124m'\u001b[39m\u001b[38;5;124mt add Integer to a String... Error Msg: \u001b[39m\u001b[38;5;132;01m{\u001b[39;00merror\u001b[38;5;132;01m}\u001b[39;00m\u001b[38;5;124m\"\u001b[39m)\n\u001b[0;32m----> 8\u001b[0m x \u001b[38;5;241m=\u001b[39m \u001b[38;5;28;43mint\u001b[39;49m\u001b[43m(\u001b[49m\u001b[43mx\u001b[49m\u001b[43m)\u001b[49m\n\u001b[1;32m      9\u001b[0m \u001b[38;5;28mprint\u001b[39m(\u001b[38;5;124mf\u001b[39m\u001b[38;5;124m\"\u001b[39m\u001b[38;5;124m'\u001b[39m\u001b[38;5;124mx\u001b[39m\u001b[38;5;124m'\u001b[39m\u001b[38;5;124m type: \u001b[39m\u001b[38;5;132;01m{\u001b[39;00m\u001b[38;5;28mtype\u001b[39m(x)\u001b[38;5;132;01m}\u001b[39;00m\u001b[38;5;124m... x value: \u001b[39m\u001b[38;5;132;01m{\u001b[39;00mx\u001b[38;5;132;01m}\u001b[39;00m\u001b[38;5;124m\"\u001b[39m) \n\u001b[1;32m     10\u001b[0m x \u001b[38;5;241m=\u001b[39m \u001b[38;5;28mfloat\u001b[39m(x)\n",
      "\u001b[0;31mValueError\u001b[0m: invalid literal for int() with base 10: '3.1'"
     ]
    }
   ],
   "source": [
    "x = input('Enter a Value:')\n",
    "print(type(x))\n",
    "try:\n",
    "    x = x + 3\n",
    "    print(x)\n",
    "except Exception as error:\n",
    "    print(f\"Can't add Integer to a String... Error Msg: {error}\")\n",
    "x = int(x)\n",
    "print(f\"'x' type: {type(x)}... x value: {x}\")"
   ]
  },
  {
   "cell_type": "code",
   "execution_count": null,
   "id": "b6c144f0-8bee-41f4-ad78-58d8e43b1ac3",
   "metadata": {
    "id": "b6c144f0-8bee-41f4-ad78-58d8e43b1ac3",
    "outputId": "4ce5258c-74e8-4821-e558-d41b985a5c87"
   },
   "outputs": [
    {
     "name": "stdout",
     "output_type": "stream",
     "text": [
      "Type of x: <class 'int'> \n",
      "Type of y: <class 'float'>\n",
      "Value of x: 3 \n",
      "Value of y: 4.4\n",
      "\n",
      "Type of x: <class 'float'> \n",
      "Type of y: <class 'int'>\n",
      "Value of x: 3.0 \n",
      "Value of y: 4\n"
     ]
    }
   ],
   "source": [
    "x = 3\n",
    "y = 4.4\n",
    "print(\"Type of x:\", type(x), \"\\nType of y:\", type(y))\n",
    "print(\"Value of x:\", x, \"\\nValue of y:\", y)\n",
    "print()\n",
    "x = float(x)\n",
    "y = int(y)\n",
    "print(\"Type of x:\", type(x), \"\\nType of y:\", type(y))\n",
    "print(\"Value of x:\", x, \"\\nValue of y:\", y)"
   ]
  },
  {
   "cell_type": "markdown",
   "id": "35aa0d98-07e3-46eb-8aab-59c38d74ad7f",
   "metadata": {
    "id": "35aa0d98-07e3-46eb-8aab-59c38d74ad7f"
   },
   "source": [
    "### Arithmetic Operators:\n",
    "- \\+ Addition\n",
    "- \\- Subtarction\n",
    "- \\* Multiplication\n",
    "- /  Division\n",
    "- // Floor Division\n",
    "- %  Modulo\n",
    "- ** Exponent\n",
    "- +=\n",
    "- -=\n",
    "- *=\n",
    "- /=\n",
    "- //=\n",
    "- %="
   ]
  },
  {
   "cell_type": "code",
   "execution_count": null,
   "id": "7c5c9110-2334-4769-af0f-b8e6b45a4503",
   "metadata": {
    "id": "7c5c9110-2334-4769-af0f-b8e6b45a4503",
    "outputId": "fb8f0776-d698-4161-9457-64921a3dac35"
   },
   "outputs": [
    {
     "name": "stdout",
     "output_type": "stream",
     "text": [
      "x + y = 18\n",
      "x - y = 8\n",
      "x * y = 65\n",
      "x / y = 2.6\n",
      "x // y = 2\n",
      "x % y = 3\n"
     ]
    }
   ],
   "source": [
    "x = 13\n",
    "y = 5\n",
    "print(\"x + y =\", x+y)\n",
    "print(\"x - y =\", x-y)\n",
    "print(\"x * y =\", x*y)\n",
    "print(\"x / y =\", x/y)\n",
    "print(\"x // y =\", x//y)\n",
    "print(\"x % y =\", x%y)"
   ]
  },
  {
   "cell_type": "code",
   "execution_count": null,
   "id": "559e30fa-5c5a-4458-b328-0fe767df9d19",
   "metadata": {
    "id": "559e30fa-5c5a-4458-b328-0fe767df9d19",
    "outputId": "b9c1e5de-d7fe-4c93-8ce5-ca6fe7b56a63"
   },
   "outputs": [
    {
     "name": "stdout",
     "output_type": "stream",
     "text": [
      "14\n",
      "12\n",
      "84\n",
      "16.8\n",
      "5.0\n",
      "2.0\n"
     ]
    }
   ],
   "source": [
    "x = 13\n",
    "y = 5\n",
    "x += 1\n",
    "print(x)\n",
    "x-=2\n",
    "print(x)\n",
    "x*=7\n",
    "print(x)\n",
    "x/=5\n",
    "print(x)\n",
    "x//=3\n",
    "print(x)\n",
    "x%=3\n",
    "print(x)"
   ]
  },
  {
   "cell_type": "markdown",
   "id": "2d73cac7-c53c-4a85-892b-dc7e3eb33dac",
   "metadata": {
    "id": "2d73cac7-c53c-4a85-892b-dc7e3eb33dac"
   },
   "source": [
    "# Camparison Oprators:\n",
    "- == Equality\n",
    "- <  Less than\n",
    "- \\> Greater than\n",
    "- <= Less than or equal\n",
    "- \\>= Greater than or equal\n",
    "- != Not equal"
   ]
  },
  {
   "cell_type": "code",
   "execution_count": null,
   "id": "d9cad013-b3e5-48d5-a474-3b42ef0cc22d",
   "metadata": {
    "id": "d9cad013-b3e5-48d5-a474-3b42ef0cc22d",
    "outputId": "556d0c2a-5536-4d9c-f196-177673e86cfe"
   },
   "outputs": [
    {
     "name": "stdout",
     "output_type": "stream",
     "text": [
      "x: 2.0, y: 5\n",
      "x==y: False\n",
      "x<y: True\n",
      "x<=y: True\n",
      "x>y: False\n",
      "x>=y: False\n",
      "x>y: False\n",
      "x!=y: True\n"
     ]
    }
   ],
   "source": [
    "print(f'x: {x}, y: {y}')\n",
    "print('x==y:', x==y)\n",
    "print('x<y:', x<y)\n",
    "print('x<=y:', x<=y)\n",
    "print('x>y:', x>y)\n",
    "print('x>=y:', x>=y)\n",
    "print('x>y:', x>y)\n",
    "print('x!=y:', x!=y)"
   ]
  },
  {
   "cell_type": "markdown",
   "id": "bee06aeb-1417-4aa0-960d-ea0fcc73d736",
   "metadata": {
    "id": "bee06aeb-1417-4aa0-960d-ea0fcc73d736",
    "jp-MarkdownHeadingCollapsed": true
   },
   "source": [
    "## Lists"
   ]
  },
  {
   "cell_type": "code",
   "execution_count": null,
   "id": "0a32b05a-42b6-4a5d-8758-0a7babc567c5",
   "metadata": {
    "id": "0a32b05a-42b6-4a5d-8758-0a7babc567c5"
   },
   "outputs": [],
   "source": [
    "lst1 = [11, 22, 33]"
   ]
  },
  {
   "cell_type": "code",
   "execution_count": null,
   "id": "f4e2e36c-0a05-4203-aa97-b73d911d032e",
   "metadata": {
    "id": "f4e2e36c-0a05-4203-aa97-b73d911d032e"
   },
   "outputs": [],
   "source": [
    "lst2 = [1, [22,23], 33]"
   ]
  },
  {
   "cell_type": "code",
   "execution_count": null,
   "id": "3fe79f29-cff0-49d9-a377-e8b1685a9af2",
   "metadata": {
    "id": "3fe79f29-cff0-49d9-a377-e8b1685a9af2"
   },
   "outputs": [],
   "source": [
    "lst3 = [1, 'abc', 3]"
   ]
  },
  {
   "cell_type": "markdown",
   "id": "469e6910-5f8b-47ea-8df2-aba50af7d441",
   "metadata": {
    "id": "469e6910-5f8b-47ea-8df2-aba50af7d441"
   },
   "source": [
    "### Lists Basic Ooperation"
   ]
  },
  {
   "cell_type": "code",
   "execution_count": null,
   "id": "ebec69b2-dfed-481c-ae53-58226c0e60f7",
   "metadata": {
    "id": "ebec69b2-dfed-481c-ae53-58226c0e60f7",
    "outputId": "cc680af3-d098-4c8e-9e06-d48f34902250"
   },
   "outputs": [
    {
     "name": "stdout",
     "output_type": "stream",
     "text": [
      "22\n"
     ]
    }
   ],
   "source": [
    "## Indexing\n",
    "print(lst1[1])"
   ]
  },
  {
   "cell_type": "code",
   "execution_count": null,
   "id": "19eac9aa-9f09-4648-bc8e-8c68631865bb",
   "metadata": {
    "id": "19eac9aa-9f09-4648-bc8e-8c68631865bb",
    "outputId": "9ffd48b7-d28b-44c2-af59-1df695c7513f"
   },
   "outputs": [
    {
     "name": "stdout",
     "output_type": "stream",
     "text": [
      "[22, 23]\n"
     ]
    }
   ],
   "source": [
    "print(lst2[1])"
   ]
  },
  {
   "cell_type": "code",
   "execution_count": null,
   "id": "75762a73-cca9-4ba0-a9c4-31ec5ca66788",
   "metadata": {
    "id": "75762a73-cca9-4ba0-a9c4-31ec5ca66788",
    "outputId": "293e5269-384d-445a-9ac7-eb11dbfadc02"
   },
   "outputs": [
    {
     "name": "stdout",
     "output_type": "stream",
     "text": [
      "23\n"
     ]
    }
   ],
   "source": [
    "print(lst2[1][1])"
   ]
  },
  {
   "cell_type": "code",
   "execution_count": null,
   "id": "a8730fd9-e23b-4569-804e-01296082b8a0",
   "metadata": {
    "id": "a8730fd9-e23b-4569-804e-01296082b8a0",
    "outputId": "2bb8168b-d5fc-4fd1-f231-1e7938f19048"
   },
   "outputs": [
    {
     "name": "stdout",
     "output_type": "stream",
     "text": [
      "abc\n",
      "b\n"
     ]
    }
   ],
   "source": [
    "print(lst3[1])\n",
    "print(lst3[1][1])"
   ]
  },
  {
   "cell_type": "code",
   "execution_count": null,
   "id": "274636cf-124c-4eed-8cd5-8434e49a198b",
   "metadata": {
    "id": "274636cf-124c-4eed-8cd5-8434e49a198b",
    "outputId": "e7adcb3f-bc4e-4fd4-fd29-be904667b8cc"
   },
   "outputs": [
    {
     "name": "stdout",
     "output_type": "stream",
     "text": [
      "[3, 4, 5, 6]\n",
      "[3, 5]\n",
      "[7, 6, 5, 4]\n",
      "[3, 4, 5, 6, 7, 9]\n",
      "6\n",
      "[6, 7, 9]\n"
     ]
    }
   ],
   "source": [
    "## Slicing\n",
    "lst = [1,2,3,4,5,6,7,9]\n",
    "print(lst[2:6])\n",
    "print(lst[2:6:2])\n",
    "print(lst[6:2:-1])\n",
    "print(lst[2:])\n",
    "print(lst[-3])\n",
    "print(lst[-3:])"
   ]
  },
  {
   "cell_type": "code",
   "execution_count": null,
   "id": "2906017d-bbdf-48bd-9a46-78e9484b3b85",
   "metadata": {
    "id": "2906017d-bbdf-48bd-9a46-78e9484b3b85",
    "outputId": "e2d37217-172f-4a12-cf04-19ee3dc7aee5"
   },
   "outputs": [
    {
     "name": "stdout",
     "output_type": "stream",
     "text": [
      "8\n"
     ]
    }
   ],
   "source": [
    "## List length\n",
    "print(len(lst))"
   ]
  },
  {
   "cell_type": "code",
   "execution_count": null,
   "id": "1692e29d-a6ab-480b-8c12-982603975391",
   "metadata": {
    "id": "1692e29d-a6ab-480b-8c12-982603975391",
    "outputId": "82787355-34a5-48d7-fdd6-d5a669bdc4c6"
   },
   "outputs": [
    {
     "name": "stdout",
     "output_type": "stream",
     "text": [
      "[1, 2, 3, 4, 5, 6, 7, 9, 11, 22, 33]\n"
     ]
    }
   ],
   "source": [
    "## Attaching list\n",
    "lst = lst + [11, 22, 33]\n",
    "print(lst)"
   ]
  },
  {
   "cell_type": "code",
   "execution_count": null,
   "id": "53222143-6264-4e8d-8ef3-f4b67b89007e",
   "metadata": {
    "id": "53222143-6264-4e8d-8ef3-f4b67b89007e",
    "outputId": "81a214f6-3120-44c1-8b46-99868981ff98"
   },
   "outputs": [
    {
     "name": "stdout",
     "output_type": "stream",
     "text": [
      "[1, 2, 3, 4, 5, 6, 7, 9, 11, 22, 33, 1, 2, 3, 4, 5, 6, 7, 9, 11, 22, 33, 1, 2, 3, 4, 5, 6, 7, 9, 11, 22, 33]\n"
     ]
    }
   ],
   "source": [
    "## Repeating list elements\n",
    "print(lst*3)"
   ]
  },
  {
   "cell_type": "code",
   "execution_count": null,
   "id": "126cc91f-71b8-438b-9f3c-1bea80a65a8c",
   "metadata": {
    "id": "126cc91f-71b8-438b-9f3c-1bea80a65a8c",
    "outputId": "e6a6b3bd-3505-4cc5-f70a-af2dfe79a992"
   },
   "outputs": [
    {
     "name": "stdout",
     "output_type": "stream",
     "text": [
      "True\n",
      "False\n"
     ]
    }
   ],
   "source": [
    "## Check if value is an elements of a list\n",
    "print(33 in lst)\n",
    "print(10 in lst)"
   ]
  },
  {
   "cell_type": "code",
   "execution_count": null,
   "id": "b0a46f1c-c56e-4008-8ea2-6a0ea5bfd96e",
   "metadata": {
    "id": "b0a46f1c-c56e-4008-8ea2-6a0ea5bfd96e",
    "outputId": "a49d06ac-40c0-44d1-95a5-a3c7b3a95639"
   },
   "outputs": [
    {
     "name": "stdout",
     "output_type": "stream",
     "text": [
      "[1, 2, 3]\n",
      "[1, 2, 3, 44]\n",
      "[1, 2, 3, 44, 55]\n"
     ]
    }
   ],
   "source": [
    "## Adding elements to a list\n",
    "lst = [1,2,3]\n",
    "print(lst)\n",
    "lst.append(44)\n",
    "print(lst)\n",
    "lst+= [55]\n",
    "print(lst)"
   ]
  },
  {
   "cell_type": "code",
   "execution_count": null,
   "id": "110996d4-4310-4dcb-9eec-2877bc4af792",
   "metadata": {
    "id": "110996d4-4310-4dcb-9eec-2877bc4af792",
    "outputId": "98a37adf-8895-45a7-e90f-bd51566ada76"
   },
   "outputs": [
    {
     "name": "stdout",
     "output_type": "stream",
     "text": [
      "[1, 2, 3, 44, 55]\n",
      "[11, 2, 3, 44, 55]\n",
      "[11, 2, 3, 44, 5]\n"
     ]
    }
   ],
   "source": [
    "## Updating list element\n",
    "print(lst)\n",
    "lst[0] = 11\n",
    "print(lst)\n",
    "lst[-1] = 5\n",
    "print(lst)"
   ]
  },
  {
   "cell_type": "code",
   "execution_count": null,
   "id": "55e53333-909e-4b80-829c-ba37105aa03b",
   "metadata": {
    "id": "55e53333-909e-4b80-829c-ba37105aa03b",
    "outputId": "c85e5e66-15c4-4a1d-b67c-8fe92288f7e1"
   },
   "outputs": [
    {
     "name": "stdout",
     "output_type": "stream",
     "text": [
      "[5, 44, 3, 2, 11]\n"
     ]
    }
   ],
   "source": [
    "## Reversing list\n",
    "lst.reverse()\n",
    "print(lst)"
   ]
  },
  {
   "cell_type": "code",
   "execution_count": null,
   "id": "05267ba7-b46c-4cda-8fe1-48003e62480c",
   "metadata": {
    "id": "05267ba7-b46c-4cda-8fe1-48003e62480c",
    "outputId": "06de2e56-a439-44d7-8293-d5109d055461"
   },
   "outputs": [
    {
     "name": "stdout",
     "output_type": "stream",
     "text": [
      "[5, 44, 3, 2, 11, 5, 44, 3, 2, 11]\n",
      "[5, 44, 3, 11, 5, 44, 3, 2, 11]\n"
     ]
    }
   ],
   "source": [
    "## Removing element from a list\n",
    "lst*=2\n",
    "print(lst)\n",
    "lst.remove(2)\n",
    "print(lst)"
   ]
  },
  {
   "cell_type": "markdown",
   "id": "abeee34b-56a9-4878-b6c5-50e0e0abc51e",
   "metadata": {
    "id": "abeee34b-56a9-4878-b6c5-50e0e0abc51e",
    "jp-MarkdownHeadingCollapsed": true
   },
   "source": [
    "## Iteration Control:\n",
    "- ### For loop\n",
    "- ### While loop"
   ]
  },
  {
   "cell_type": "code",
   "execution_count": null,
   "id": "6fb95aea-5548-4887-a1b4-bd85fc3f98b7",
   "metadata": {
    "id": "6fb95aea-5548-4887-a1b4-bd85fc3f98b7",
    "outputId": "3e9c3496-a09f-47ba-fb30-c465632a9526"
   },
   "outputs": [
    {
     "name": "stdout",
     "output_type": "stream",
     "text": [
      "5\n",
      "44\n",
      "3\n",
      "11\n",
      "5\n",
      "44\n",
      "3\n",
      "2\n",
      "11\n"
     ]
    }
   ],
   "source": [
    "## for loop: needs a collection of elements to iterate over (like a list, string, set, ..., range)\n",
    "for e in lst:\n",
    "    print(e)"
   ]
  },
  {
   "cell_type": "code",
   "execution_count": null,
   "id": "95f544c1-70f0-468f-a981-8fbc382f3046",
   "metadata": {
    "id": "95f544c1-70f0-468f-a981-8fbc382f3046",
    "outputId": "fd23ddbc-80e5-4541-9b5b-aff09bac96cf"
   },
   "outputs": [
    {
     "name": "stdout",
     "output_type": "stream",
     "text": [
      "1 : 5\n",
      "2 : 44\n",
      "3 : 3\n",
      "4 : 11\n",
      "5 : 5\n",
      "6 : 44\n",
      "7 : 3\n",
      "8 : 2\n",
      "9 : 11\n"
     ]
    }
   ],
   "source": [
    "for i in range(len(lst)):\n",
    "    print(i+1, ':', lst[i])"
   ]
  },
  {
   "cell_type": "code",
   "execution_count": null,
   "id": "66b25196-61f0-4ff7-ae26-4fb81ad2c578",
   "metadata": {
    "id": "66b25196-61f0-4ff7-ae26-4fb81ad2c578",
    "outputId": "a9d2d2a3-e2b7-4c2f-f247-bebc4d86c628"
   },
   "outputs": [
    {
     "name": "stdout",
     "output_type": "stream",
     "text": [
      "0 : 5\n",
      "1 : 44\n",
      "2 : 3\n",
      "3 : 11\n",
      "4 : 5\n",
      "5 : 44\n",
      "6 : 3\n",
      "7 : 2\n",
      "8 : 11\n"
     ]
    }
   ],
   "source": [
    "c = 0\n",
    "while c<len(lst):\n",
    "    print(c, ':', lst[c])\n",
    "    c+=1  # must increment the counter to make sure we can break out of the loop"
   ]
  },
  {
   "cell_type": "markdown",
   "id": "36b86b5f-df00-409d-99f6-0bb13c2c698b",
   "metadata": {
    "id": "36b86b5f-df00-409d-99f6-0bb13c2c698b",
    "jp-MarkdownHeadingCollapsed": true
   },
   "source": [
    "## Condition Control"
   ]
  },
  {
   "cell_type": "code",
   "execution_count": null,
   "id": "f4371465-587b-4bb3-bb8d-cadf1418254b",
   "metadata": {
    "id": "f4371465-587b-4bb3-bb8d-cadf1418254b",
    "outputId": "d4403639-2976-443b-a168-708eb8e1aebd"
   },
   "outputs": [
    {
     "name": "stdout",
     "output_type": "stream",
     "text": [
      "Can not remove more elements from the list.. list size is not 5 or less\n",
      "[44, 3, 44, 3, 2]\n"
     ]
    }
   ],
   "source": [
    "x = 3\n",
    "if x not in lst:\n",
    "    print (x, 'is not in list')\n",
    "elif len(lst)<=5:\n",
    "    print('Can not remove more elements from the list.. list size is not 5 or less')\n",
    "else:\n",
    "    lst.remove(x)\n",
    "print(lst)"
   ]
  },
  {
   "cell_type": "markdown",
   "id": "1974dadf-907c-40b1-8a07-8a5cf67a61ec",
   "metadata": {
    "id": "1974dadf-907c-40b1-8a07-8a5cf67a61ec",
    "jp-MarkdownHeadingCollapsed": true
   },
   "source": [
    "## Sets\n",
    "Sets are collection of elements (like lists), BUT the elements of a set are unique"
   ]
  },
  {
   "cell_type": "code",
   "execution_count": null,
   "id": "b532d9be-e032-4a53-a4c5-270497f34e1c",
   "metadata": {
    "id": "b532d9be-e032-4a53-a4c5-270497f34e1c",
    "outputId": "4ea1d7c3-966e-46f5-b893-eb580c9366a7"
   },
   "outputs": [
    {
     "name": "stdout",
     "output_type": "stream",
     "text": [
      "{1, 2, 3, 4}\n"
     ]
    }
   ],
   "source": [
    "set1 = {1,2,3,4,3,4,2,4,4,4,1,1}\n",
    "print(set1)"
   ]
  },
  {
   "cell_type": "code",
   "execution_count": null,
   "id": "c2de6039-2488-4844-833a-c46756b31a72",
   "metadata": {
    "id": "c2de6039-2488-4844-833a-c46756b31a72",
    "outputId": "d8a27098-b087-4cc5-f434-9947d64c42f5"
   },
   "outputs": [
    {
     "name": "stdout",
     "output_type": "stream",
     "text": [
      "[44, 3, 44, 3, 2]\n",
      "{2, 3, 44}\n"
     ]
    }
   ],
   "source": [
    "print(lst)\n",
    "set1 = set(lst)\n",
    "print(set1)"
   ]
  },
  {
   "cell_type": "markdown",
   "id": "3f26a53e-0fbf-4f55-ac26-4dae55af047d",
   "metadata": {
    "id": "3f26a53e-0fbf-4f55-ac26-4dae55af047d"
   },
   "source": [
    "## Dicitonary\n",
    "collection of elements of pair: a key and a value"
   ]
  },
  {
   "cell_type": "code",
   "execution_count": null,
   "id": "9a6f07b0-f282-408b-becc-919829dba032",
   "metadata": {
    "id": "9a6f07b0-f282-408b-becc-919829dba032",
    "outputId": "f6c95647-4765-4450-c6bb-be622eefc283"
   },
   "outputs": [
    {
     "name": "stdout",
     "output_type": "stream",
     "text": [
      "1 : Amy\n",
      "2 : John\n",
      "3 : Ahmed\n",
      "phi : no one\n",
      "twin1 : ['Mark', 'Elias']\n"
     ]
    }
   ],
   "source": [
    "d = {1:\"Amy\", 2:\"John\", 3:\"Ahmed\", 'phi':\"no one\", 'twin1':['Mark', 'Elias']}\n",
    "for k,v in d.items():\n",
    "    print(k, ':',v)"
   ]
  },
  {
   "cell_type": "markdown",
   "id": "SgaRiCDms4kV",
   "metadata": {
    "id": "SgaRiCDms4kV"
   },
   "source": [
    "# Numpy"
   ]
  },
  {
   "cell_type": "markdown",
   "id": "SltZDreptS9L",
   "metadata": {
    "id": "SltZDreptS9L"
   },
   "source": [
    "* Used to work with arrays\n",
    "* Arrays are 50x faster than traditional Python lists"
   ]
  },
  {
   "cell_type": "code",
   "execution_count": null,
   "id": "Ay11XAyDtYeL",
   "metadata": {
    "id": "Ay11XAyDtYeL"
   },
   "outputs": [],
   "source": [
    "# First needs to be imported\n",
    "import numpy as np # shorten as np to make easy use in future operations"
   ]
  },
  {
   "cell_type": "code",
   "execution_count": null,
   "id": "JZllpRmJt5U3",
   "metadata": {
    "colab": {
     "base_uri": "https://localhost:8080/"
    },
    "id": "JZllpRmJt5U3",
    "outputId": "70a3f06f-c3f8-4f08-e139-942d7959fe4c"
   },
   "outputs": [
    {
     "name": "stdout",
     "output_type": "stream",
     "text": [
      "1.26.4\n"
     ]
    }
   ],
   "source": [
    "print(np.__version__) # Check the version of numpy"
   ]
  },
  {
   "cell_type": "code",
   "execution_count": null,
   "id": "Cp1ztD5dxYET",
   "metadata": {
    "colab": {
     "base_uri": "https://localhost:8080/"
    },
    "id": "Cp1ztD5dxYET",
    "outputId": "fe7ab6f5-ff74-4325-82f2-de6c4b3578d1"
   },
   "outputs": [
    {
     "name": "stdout",
     "output_type": "stream",
     "text": [
      "[1 2 3]\n"
     ]
    }
   ],
   "source": [
    "arr = np.array([1, 2, 3]) # Create array 1, 2, 3\n",
    "\n",
    "print(arr)"
   ]
  },
  {
   "cell_type": "code",
   "execution_count": null,
   "id": "svPsOOYXyCM7",
   "metadata": {
    "colab": {
     "base_uri": "https://localhost:8080/"
    },
    "id": "svPsOOYXyCM7",
    "outputId": "86e5d7e9-5d56-4ae8-c7ea-417362ef4618"
   },
   "outputs": [
    {
     "name": "stdout",
     "output_type": "stream",
     "text": [
      "[0. 0. 0. 0. 0.]\n"
     ]
    }
   ],
   "source": [
    "# Arrays can be created with 0's only\n",
    "\n",
    "arr = np.zeros(5)\n",
    "\n",
    "print(arr)"
   ]
  },
  {
   "cell_type": "code",
   "execution_count": null,
   "id": "le1mc6GkybUN",
   "metadata": {
    "colab": {
     "base_uri": "https://localhost:8080/"
    },
    "id": "le1mc6GkybUN",
    "outputId": "d5f731b7-57c9-4fa8-cc3f-30f7609d2cb2"
   },
   "outputs": [
    {
     "name": "stdout",
     "output_type": "stream",
     "text": [
      "[1. 1. 1. 1. 1.]\n"
     ]
    }
   ],
   "source": [
    "# Same can be done with 1's\n",
    "arr = np.ones(5)\n",
    "\n",
    "print(arr)"
   ]
  },
  {
   "cell_type": "code",
   "execution_count": null,
   "id": "9GzsDLSMywCz",
   "metadata": {
    "colab": {
     "base_uri": "https://localhost:8080/"
    },
    "id": "9GzsDLSMywCz",
    "outputId": "75f3a96e-a775-4832-ca0e-8d99def3cc15"
   },
   "outputs": [
    {
     "name": "stdout",
     "output_type": "stream",
     "text": [
      "[[1 2 3]]\n",
      "number of dimensions : 2\n"
     ]
    }
   ],
   "source": [
    "# arrays can be created with different shapes\n",
    "arr = np.array([1, 2, 3], ndmin=2) # 2 dimensional array of 1, 2, 3\n",
    "\n",
    "print(arr)\n",
    "print('number of dimensions :', arr.ndim)"
   ]
  },
  {
   "cell_type": "code",
   "execution_count": null,
   "id": "ty8VHsd4_Hp-",
   "metadata": {
    "id": "ty8VHsd4_Hp-"
   },
   "outputs": [],
   "source": [
    "# Exercise\n",
    "arr = np.array([1, 2, 3, 4, 5, 6, 7, 8, 9, 10])\n",
    "\n",
    "# access the first element of the numpy array 'arr'"
   ]
  },
  {
   "cell_type": "code",
   "execution_count": null,
   "id": "J56jWL8M_vcY",
   "metadata": {
    "colab": {
     "base_uri": "https://localhost:8080/"
    },
    "id": "J56jWL8M_vcY",
    "outputId": "6dbf1908-b3a5-4957-9e73-63d29e1d47a7"
   },
   "outputs": [
    {
     "data": {
      "text/plain": [
       "array([6, 5, 4, 3, 2, 1])"
      ]
     },
     "execution_count": 9,
     "metadata": {},
     "output_type": "execute_result"
    }
   ],
   "source": [
    "reversed_arr = arr[::-1] #arrays can be reversed, instead of 1,2,3 -> 3,2,1\n",
    "reversed_arr"
   ]
  },
  {
   "cell_type": "markdown",
   "id": "ruEDEFqd5X9-",
   "metadata": {
    "id": "ruEDEFqd5X9-"
   },
   "source": [
    "Array Slicing"
   ]
  },
  {
   "cell_type": "code",
   "execution_count": null,
   "id": "vdrUY3qm-LJT",
   "metadata": {
    "colab": {
     "base_uri": "https://localhost:8080/"
    },
    "id": "vdrUY3qm-LJT",
    "outputId": "3f33484d-0830-46cf-8220-74f2988b3eda"
   },
   "outputs": [
    {
     "data": {
      "text/plain": [
       "array([3, 4, 5])"
      ]
     },
     "execution_count": 10,
     "metadata": {},
     "output_type": "execute_result"
    }
   ],
   "source": [
    "sub_array = arr[2:5] # Slice from index 2 to index 5 (5 is not included)\n",
    "sub_array"
   ]
  },
  {
   "cell_type": "code",
   "execution_count": null,
   "id": "dRhlipp7-WxH",
   "metadata": {
    "colab": {
     "base_uri": "https://localhost:8080/"
    },
    "id": "dRhlipp7-WxH",
    "outputId": "eef495e7-d48e-4878-deab-576e684d7afa"
   },
   "outputs": [
    {
     "data": {
      "text/plain": [
       "array([3, 4, 5, 6])"
      ]
     },
     "execution_count": 11,
     "metadata": {},
     "output_type": "execute_result"
    }
   ],
   "source": [
    "# How would we do slicing if we wanted 5 to be included?"
   ]
  },
  {
   "cell_type": "code",
   "execution_count": null,
   "id": "vCbeon6h-3CW",
   "metadata": {
    "colab": {
     "base_uri": "https://localhost:8080/"
    },
    "id": "vCbeon6h-3CW",
    "outputId": "091e6c8f-9e39-4a9c-87e4-9706a87736fa"
   },
   "outputs": [
    {
     "data": {
      "text/plain": [
       "array([2, 4, 6])"
      ]
     },
     "execution_count": 12,
     "metadata": {},
     "output_type": "execute_result"
    }
   ],
   "source": [
    "sub_array = arr[1:9:2] # Slice from index 1 to 8, with a step of 2\n",
    "sub_array"
   ]
  },
  {
   "cell_type": "code",
   "execution_count": null,
   "id": "9we0VbLb_2St",
   "metadata": {
    "colab": {
     "base_uri": "https://localhost:8080/"
    },
    "id": "9we0VbLb_2St",
    "outputId": "f1bc70cd-8101-4b3e-c5e1-4c0444dccb44"
   },
   "outputs": [
    {
     "data": {
      "text/plain": [
       "array([ 8,  9, 10])"
      ]
     },
     "execution_count": 17,
     "metadata": {},
     "output_type": "execute_result"
    }
   ],
   "source": [
    "sub_array = arr[-3:] # Slice the last three elements of the array\n",
    "sub_array"
   ]
  },
  {
   "cell_type": "code",
   "execution_count": null,
   "id": "omDFmHL7_UKG",
   "metadata": {
    "colab": {
     "base_uri": "https://localhost:8080/"
    },
    "id": "omDFmHL7_UKG",
    "outputId": "eb5c0bef-b99f-449d-9dee-cc0ac9562cdf"
   },
   "outputs": [
    {
     "data": {
      "text/plain": [
       "array([[1, 2, 3],\n",
       "       [5, 6, 7]])"
      ]
     },
     "execution_count": 18,
     "metadata": {},
     "output_type": "execute_result"
    }
   ],
   "source": [
    "# Create a 2 dimensional array (3x4 matrix)\n",
    "arr_2d = np.array([[1, 2, 3, 4],\n",
    "                   [5, 6, 7, 8],\n",
    "                   [9, 10, 11, 12]])\n",
    "\n",
    "sub_array = arr_2d[0:2, 0:3] # Slice to get the first two rows and the first three columns\n",
    "sub_array"
   ]
  },
  {
   "cell_type": "code",
   "execution_count": null,
   "id": "8YwHb_g3ABeW",
   "metadata": {
    "colab": {
     "base_uri": "https://localhost:8080/"
    },
    "id": "8YwHb_g3ABeW",
    "outputId": "276b2c96-85b9-45d5-ad5c-cfe17f4ad01e"
   },
   "outputs": [
    {
     "data": {
      "text/plain": [
       "array([[ 7,  8],\n",
       "       [11, 12]])"
      ]
     },
     "execution_count": 20,
     "metadata": {},
     "output_type": "execute_result"
    }
   ],
   "source": [
    "# Slice the last two rows and last two columns of the 2D array\n",
    "sub_array = arr_2d[-2:, -2:]\n",
    "sub_array"
   ]
  },
  {
   "cell_type": "markdown",
   "id": "PalLsP7QAV81",
   "metadata": {
    "id": "PalLsP7QAV81"
   },
   "source": [
    "Numpy operators:\n",
    "- Sum (+)\n",
    "- Multiplication (*)\n",
    "- Square (**)\n",
    "- Greater (>)\n",
    "- Smaller (<)\n",
    "- Equal (==)"
   ]
  },
  {
   "cell_type": "code",
   "execution_count": null,
   "id": "FDg_nnhmA86a",
   "metadata": {
    "colab": {
     "base_uri": "https://localhost:8080/"
    },
    "id": "FDg_nnhmA86a",
    "outputId": "60e9fd4e-28be-4eed-bb89-5b467099c665"
   },
   "outputs": [
    {
     "data": {
      "text/plain": [
       "array([1, 4, 9])"
      ]
     },
     "execution_count": 9,
     "metadata": {},
     "output_type": "execute_result"
    }
   ],
   "source": [
    "squared_arr = arr ** 2 # squaring 1,2,3 array\n",
    "squared_arr"
   ]
  },
  {
   "cell_type": "markdown",
   "id": "6vwl1d1WBHxN",
   "metadata": {
    "id": "6vwl1d1WBHxN"
   },
   "source": [
    "Numpy also has statistical operations such as taking maximum, mean, standard deviation ..."
   ]
  },
  {
   "cell_type": "code",
   "execution_count": null,
   "id": "1wbZT27jBQ6t",
   "metadata": {
    "colab": {
     "base_uri": "https://localhost:8080/"
    },
    "id": "1wbZT27jBQ6t",
    "outputId": "aff29690-14f1-463f-9e46-bfc188960afc"
   },
   "outputs": [
    {
     "data": {
      "text/plain": [
       "3"
      ]
     },
     "execution_count": 10,
     "metadata": {},
     "output_type": "execute_result"
    }
   ],
   "source": [
    "arr_max = np.max(arr) #find maximum value in array\n",
    "arr_max"
   ]
  },
  {
   "cell_type": "code",
   "execution_count": null,
   "id": "chpQjUKnBeR4",
   "metadata": {
    "id": "chpQjUKnBeR4"
   },
   "outputs": [],
   "source": [
    "#Exercise\n",
    "\n",
    "#Find minimum of array 'arr'\n",
    "\n",
    "arr_min = ..."
   ]
  },
  {
   "cell_type": "code",
   "execution_count": null,
   "id": "VybxObT_Bik-",
   "metadata": {
    "colab": {
     "base_uri": "https://localhost:8080/"
    },
    "id": "VybxObT_Bik-",
    "outputId": "49a7a965-41e7-4d7f-a59c-786d9a303ccb"
   },
   "outputs": [
    {
     "data": {
      "text/plain": [
       "2.0"
      ]
     },
     "execution_count": 12,
     "metadata": {},
     "output_type": "execute_result"
    }
   ],
   "source": [
    "arr_mean = np.mean(arr) #find mean value in array\n",
    "arr_mean"
   ]
  },
  {
   "cell_type": "code",
   "execution_count": null,
   "id": "b6r6xQ-JBqJ1",
   "metadata": {
    "colab": {
     "base_uri": "https://localhost:8080/"
    },
    "id": "b6r6xQ-JBqJ1",
    "outputId": "0a3c8285-38ef-49e1-b874-ae8e6ebf709e"
   },
   "outputs": [
    {
     "data": {
      "text/plain": [
       "0.816496580927726"
      ]
     },
     "execution_count": 13,
     "metadata": {},
     "output_type": "execute_result"
    }
   ],
   "source": [
    "arr_std_dev = np.std(arr) # find standard deviation of array\n",
    "arr_std_dev"
   ]
  },
  {
   "cell_type": "markdown",
   "id": "jIIPPOgcDLA6",
   "metadata": {
    "id": "jIIPPOgcDLA6"
   },
   "source": [
    "Arrays can be transposed and reshaped"
   ]
  },
  {
   "cell_type": "code",
   "execution_count": null,
   "id": "ZD2FEEAgDN9Q",
   "metadata": {
    "colab": {
     "base_uri": "https://localhost:8080/"
    },
    "id": "ZD2FEEAgDN9Q",
    "outputId": "9582c8aa-9f10-4e5f-8812-91d4229ae700"
   },
   "outputs": [
    {
     "data": {
      "text/plain": [
       "array([ 0,  1,  2,  3,  4,  5,  6,  7,  8,  9, 10, 11, 12, 13, 14])"
      ]
     },
     "execution_count": 16,
     "metadata": {},
     "output_type": "execute_result"
    }
   ],
   "source": [
    "arr = np.arange(15) # instead of putting all 15 by hand, we can use arange to create an array of numbers\n",
    "arr"
   ]
  },
  {
   "cell_type": "code",
   "execution_count": null,
   "id": "U0wS_aMkD02V",
   "metadata": {
    "colab": {
     "base_uri": "https://localhost:8080/",
     "height": 176
    },
    "id": "U0wS_aMkD02V",
    "outputId": "3c4baa97-7396-4e4c-e221-e33c81853da6"
   },
   "outputs": [
    {
     "ename": "ValueError",
     "evalue": "cannot reshape array of size 15 into shape (3,4)",
     "output_type": "error",
     "traceback": [
      "\u001b[0;31m---------------------------------------------------------------------------\u001b[0m",
      "\u001b[0;31mValueError\u001b[0m                                Traceback (most recent call last)",
      "\u001b[0;32m<ipython-input-21-305a3a61ce7e>\u001b[0m in \u001b[0;36m<cell line: 2>\u001b[0;34m()\u001b[0m\n\u001b[1;32m      1\u001b[0m \u001b[0;31m# Now lets reshape this array\u001b[0m\u001b[0;34m\u001b[0m\u001b[0;34m\u001b[0m\u001b[0m\n\u001b[0;32m----> 2\u001b[0;31m \u001b[0mreshaped_arr\u001b[0m \u001b[0;34m=\u001b[0m \u001b[0marr\u001b[0m\u001b[0;34m.\u001b[0m\u001b[0mreshape\u001b[0m\u001b[0;34m(\u001b[0m\u001b[0;34m(\u001b[0m\u001b[0;36m3\u001b[0m\u001b[0;34m,\u001b[0m \u001b[0;36m4\u001b[0m\u001b[0;34m)\u001b[0m\u001b[0;34m)\u001b[0m\u001b[0;34m\u001b[0m\u001b[0;34m\u001b[0m\u001b[0m\n\u001b[0m\u001b[1;32m      3\u001b[0m \u001b[0mreshaped_arr\u001b[0m\u001b[0;34m\u001b[0m\u001b[0;34m\u001b[0m\u001b[0m\n",
      "\u001b[0;31mValueError\u001b[0m: cannot reshape array of size 15 into shape (3,4)"
     ]
    }
   ],
   "source": [
    "# Now lets reshape this array\n",
    "reshaped_arr = arr.reshape((3, 4))\n",
    "reshaped_arr"
   ]
  },
  {
   "cell_type": "markdown",
   "id": "9EpZssRBEEpn",
   "metadata": {
    "id": "9EpZssRBEEpn"
   },
   "source": [
    "Why couldn't the array be reshaped as 3x4?"
   ]
  },
  {
   "cell_type": "code",
   "execution_count": null,
   "id": "LUBbjBBkEJ8b",
   "metadata": {
    "colab": {
     "base_uri": "https://localhost:8080/"
    },
    "id": "LUBbjBBkEJ8b",
    "outputId": "a78cafd2-27b3-4192-dc3f-94a57d37b552"
   },
   "outputs": [
    {
     "data": {
      "text/plain": [
       "array([[51, 28, 43],\n",
       "       [44, 53, 62]])"
      ]
     },
     "execution_count": 24,
     "metadata": {},
     "output_type": "execute_result"
    }
   ],
   "source": [
    "arr = np.array([[51, 28, 43], [44, 53, 62]]) # create an array matrix\n",
    "arr"
   ]
  },
  {
   "cell_type": "code",
   "execution_count": null,
   "id": "nJKnnDheEmzU",
   "metadata": {
    "colab": {
     "base_uri": "https://localhost:8080/"
    },
    "id": "nJKnnDheEmzU",
    "outputId": "f0555481-bfaa-45f9-b8ad-a2eddbdfcf46"
   },
   "outputs": [
    {
     "data": {
      "text/plain": [
       "array([[51, 44],\n",
       "       [28, 53],\n",
       "       [43, 62]])"
      ]
     },
     "execution_count": 25,
     "metadata": {},
     "output_type": "execute_result"
    }
   ],
   "source": [
    "transposed_arr = arr.T # take tranposition\n",
    "transposed_arr"
   ]
  },
  {
   "cell_type": "markdown",
   "id": "XSD6sml_VF65",
   "metadata": {
    "id": "XSD6sml_VF65"
   },
   "source": [
    "# Plotting"
   ]
  },
  {
   "cell_type": "markdown",
   "id": "jKjPtyhyVJ6y",
   "metadata": {
    "id": "jKjPtyhyVJ6y"
   },
   "source": [
    "One of the libraries used commonly for plotting is matplotlib (https://matplotlib.org/3.5.3/tutorials/index.html)"
   ]
  },
  {
   "cell_type": "code",
   "execution_count": null,
   "id": "B86Fup8MVGt3",
   "metadata": {
    "id": "B86Fup8MVGt3"
   },
   "outputs": [],
   "source": [
    "# Importing matplotlib\n",
    "import matplotlib.pyplot as plt"
   ]
  },
  {
   "cell_type": "code",
   "execution_count": null,
   "id": "mf9JgxQnVaiS",
   "metadata": {
    "colab": {
     "base_uri": "https://localhost:8080/",
     "height": 447
    },
    "id": "mf9JgxQnVaiS",
    "outputId": "11fd02af-7d7e-405f-c60e-f747dbd3d8be"
   },
   "outputs": [
    {
     "data": {
      "text/plain": [
       "[<matplotlib.lines.Line2D at 0x7bb65c435030>]"
      ]
     },
     "execution_count": 30,
     "metadata": {},
     "output_type": "execute_result"
    },
    {
     "data": {
      "image/png": "[encoded data removed]",
      "text/plain": [
       "<Figure size 640x480 with 1 Axes>"
      ]
     },
     "metadata": {},
     "output_type": "display_data"
    }
   ],
   "source": [
    "# Let's create data for plotting\n",
    "\n",
    "x = [1, 3, 5, 7, 9]\n",
    "y = [2, 4, 6, 8, 10]\n",
    "\n",
    "plt.plot(x, y) # create plot using matplotlib"
   ]
  },
  {
   "cell_type": "code",
   "execution_count": null,
   "id": "GoPJzT1yYIFn",
   "metadata": {
    "colab": {
     "base_uri": "https://localhost:8080/",
     "height": 489
    },
    "id": "GoPJzT1yYIFn",
    "outputId": "7c8ef0cf-1a32-4d19-ad06-54aacd690799"
   },
   "outputs": [
    {
     "data": {
      "text/plain": [
       "[<matplotlib.lines.Line2D at 0x7bb65c45d5d0>]"
      ]
     },
     "execution_count": 31,
     "metadata": {},
     "output_type": "execute_result"
    },
    {
     "data": {
      "image/png": "[encoded data removed]",
      "text/plain": [
       "<Figure size 640x480 with 1 Axes>"
      ]
     },
     "metadata": {},
     "output_type": "display_data"
    }
   ],
   "source": [
    "plt.xlabel(\"Odd\") # naming the X axis\n",
    "plt.ylabel(\"Even\") # naming the Y axis\n",
    "plt.title(\"Even and Odd Numbers Plot\") # naming the plot\n",
    "plt.plot(x, y)"
   ]
  },
  {
   "cell_type": "markdown",
   "id": "_QQmflPdZfqA",
   "metadata": {
    "id": "_QQmflPdZfqA"
   },
   "source": [
    "Plots can also be customized such as color, linestyle, marker"
   ]
  },
  {
   "cell_type": "code",
   "execution_count": null,
   "id": "z9jQ5fkYYtaa",
   "metadata": {
    "colab": {
     "base_uri": "https://localhost:8080/",
     "height": 430
    },
    "id": "z9jQ5fkYYtaa",
    "outputId": "bccbe9a5-c353-4c26-b6ba-d6d274cdc240"
   },
   "outputs": [
    {
     "data": {
      "image/png": "[encoded data removed]",
      "text/plain": [
       "<Figure size 640x480 with 1 Axes>"
      ]
     },
     "metadata": {},
     "output_type": "display_data"
    }
   ],
   "source": [
    "plt.plot(x, y, color='green', linestyle='-.', marker='v', label=\"Even and Odd Numbers Plot\")\n",
    "\n",
    "plt.show()"
   ]
  },
  {
   "cell_type": "markdown",
   "id": "ALxHILzXaSf8",
   "metadata": {
    "id": "ALxHILzXaSf8"
   },
   "source": [
    "Matplotlib plot types: https://matplotlib.org/3.5.3/plot_types/index.html\n",
    "\n",
    "\n",
    "\n",
    "\n",
    "*   Scatter\n",
    "*   Bar\n",
    "*   Hist\n",
    "*   Boxplot\n",
    "*   Pie\n",
    "\n",
    "and so on...\n",
    "\n",
    "\n"
   ]
  },
  {
   "cell_type": "code",
   "execution_count": null,
   "id": "Tw6K9j99ZsFc",
   "metadata": {
    "colab": {
     "base_uri": "https://localhost:8080/",
     "height": 472
    },
    "id": "Tw6K9j99ZsFc",
    "outputId": "babb25a4-407e-4b58-c459-3ed4a522392b"
   },
   "outputs": [
    {
     "data": {
      "image/png": "[encoded data removed]",
      "text/plain": [
       "<Figure size 640x480 with 1 Axes>"
      ]
     },
     "metadata": {},
     "output_type": "display_data"
    }
   ],
   "source": [
    "# Let's say we want to create a bar plot to visualize students letter note\n",
    "\n",
    "letter_note = ['A', 'A-', 'B+'] # we will look at student that had grades 88 +\n",
    "students = [15, 5, 2] # number of students with the letter grade\n",
    "\n",
    "# Bar chart\n",
    "plt.bar(letter_note, students)\n",
    "\n",
    "\n",
    "# Labels and Title\n",
    "plt.xlabel(\"Letter Grade\")\n",
    "plt.ylabel(\"Number of Student\")\n",
    "plt.title(\"Letter Grade of Students\")\n",
    "\n",
    "# Show the plot\n",
    "plt.show()"
   ]
  },
  {
   "cell_type": "code",
   "execution_count": null,
   "id": "EdEEJvqCYWwq",
   "metadata": {
    "colab": {
     "base_uri": "https://localhost:8080/",
     "height": 472
    },
    "id": "EdEEJvqCYWwq",
    "outputId": "0819117a-b807-4ada-ae63-df6739bafb38"
   },
   "outputs": [
    {
     "data": {
      "image/png": "[encoded data removed]",
      "text/plain": [
       "<Figure size 640x480 with 1 Axes>"
      ]
     },
     "metadata": {},
     "output_type": "display_data"
    }
   ],
   "source": [
    "# Let's create a scatter plot to see the hours studied and corresponding exam scores\n",
    "hours_studied = [1, 2, 3, 4, 5, 6, 7, 8, 9, 10]\n",
    "exam_scores = [50, 55, 60, 65, 70, 75, 80, 85, 90, 95]\n",
    "\n",
    "# Create the scatter plot\n",
    "plt.scatter(hours_studied, exam_scores, color='blue', label='Student Data')\n",
    "\n",
    "# Add titles and labels\n",
    "plt.title(\"Scatter Plot of Hours Studied vs. Exam Scores\")\n",
    "plt.xlabel(\"Hours Studied\")\n",
    "plt.ylabel(\"Exam Score\")\n",
    "\n",
    "# Add a grid\n",
    "plt.grid(True) # displays grid lines\n",
    "\n",
    "# Add a legend\n",
    "plt.legend()\n",
    "\n",
    "# Show the plot\n",
    "plt.show()\n"
   ]
  },
  {
   "cell_type": "code",
   "execution_count": null,
   "id": "dMnA3TXxeNMp",
   "metadata": {
    "colab": {
     "base_uri": "https://localhost:8080/",
     "height": 472
    },
    "id": "dMnA3TXxeNMp",
    "outputId": "a0cf3aef-b04a-46f7-d783-186e4672b24a"
   },
   "outputs": [
    {
     "data": {
      "image/png": "[encoded data removed]",
      "text/plain": [
       "<Figure size 640x480 with 1 Axes>"
      ]
     },
     "metadata": {},
     "output_type": "display_data"
    }
   ],
   "source": [
    "# Let's create a boxplot to see the distribution of weather\n",
    "\n",
    "week1_temperatures = [20, 22, 21, 23, 24, 22, 20]\n",
    "week2_temperatures = [19, 21, 23, 25, 24, 22, 21]\n",
    "\n",
    "# Boxplot\n",
    "plt.....([week1_temperatures, week2_temperatures]) # Exercise: fill in the gap to create a boxplot\n",
    "\n",
    "\n",
    "plt.xticks([1, 2], [\"Week 1\", \"Week 2\"]) # x-axis labels\n",
    "\n",
    "# Labels and Title\n",
    "plt.xlabel(\"Week\")\n",
    "plt.ylabel(\"Temperature (°C)\")\n",
    "plt.title(\"Temperature Distribution Comparison Over Two Weeks\")\n",
    "\n",
    "# Show the plot\n",
    "plt.show()"
   ]
  },
  {
   "cell_type": "markdown",
   "id": "D4ITfnovUG8F",
   "metadata": {
    "id": "D4ITfnovUG8F"
   },
   "source": [
    "2nd Order Polynomial"
   ]
  },
  {
   "cell_type": "code",
   "execution_count": null,
   "id": "UNld5he8UIqf",
   "metadata": {
    "colab": {
     "base_uri": "https://localhost:8080/",
     "height": 472
    },
    "id": "UNld5he8UIqf",
    "outputId": "edd448fb-5559-475e-91c2-8e5890ae56a1"
   },
   "outputs": [
    {
     "data": {
      "image/png": "[encoded data removed]",
      "text/plain": [
       "<Figure size 640x480 with 1 Axes>"
      ]
     },
     "metadata": {},
     "output_type": "display_data"
    }
   ],
   "source": [
    "# Define a class for a quadratic polynomial\n",
    "class SimpleQuadraticPolynomial:\n",
    "    def __init__(self, a, b, c): # self -> instance of the class, lets you access or modify the data\n",
    "        # Store the coefficients\n",
    "        self.a = a\n",
    "        self.b = b\n",
    "        self.c = c\n",
    "\n",
    "    def evaluate(self, x):\n",
    "        # Calculate the value of the polynomial at x\n",
    "        return self.a * x**2 + self.b * x + self.c\n",
    "\n",
    "    def plot(self):\n",
    "        # Create a range of x values from -10 to 10, 100 -> no of points you want to create\n",
    "        x_values = np.linspace(-10, 10, 100) # linspace -> linear space, generates an array\n",
    "        # Calculate the corresponding y values using the polynomial\n",
    "        y_values = self.evaluate(x_values)\n",
    "\n",
    "        # Plot the polynomial\n",
    "        plt.plot(x_values, y_values, label=f'{self.a}x^2 {self.b}x + {self.c}')\n",
    "        plt.axhline(0, color='black', linewidth=0.5)  # X-axis\n",
    "        plt.axvline(0, color='black', linewidth=0.5)  # Y-axis\n",
    "        plt.title(\"Quadratic Polynomial\")\n",
    "        plt.xlabel(\"x\")\n",
    "        plt.ylabel(\"f(x)\")\n",
    "        plt.legend() # to add the legend x^2 - 3x + 2\n",
    "        plt.grid(True)\n",
    "        plt.show()\n",
    "\n",
    "# Example usage\n",
    "my_poly = SimpleQuadraticPolynomial(1, -3, 2)  # This represents the equation x^2 - 3x + 2\n",
    "my_poly.plot()  # This will plot the polynomial"
   ]
  },
  {
   "cell_type": "markdown",
   "id": "_0uKHoFYW9gs",
   "metadata": {
    "id": "_0uKHoFYW9gs"
   },
   "source": [
    "3rd Order Polynomial"
   ]
  },
  {
   "cell_type": "code",
   "execution_count": null,
   "id": "p7dRUQC2UK__",
   "metadata": {
    "colab": {
     "base_uri": "https://localhost:8080/",
     "height": 472
    },
    "id": "p7dRUQC2UK__",
    "outputId": "a4205f87-b5bd-408d-a0fb-ae16d394cbab"
   },
   "outputs": [
    {
     "data": {
      "image/png": "[encoded data removed]",
      "text/plain": [
       "<Figure size 640x480 with 1 Axes>"
      ]
     },
     "metadata": {},
     "output_type": "display_data"
    }
   ],
   "source": [
    "# Define a class for a cubic polynomial\n",
    "class SimpleCubicPolynomial:\n",
    "    def __init__(self, a, b, c, d):\n",
    "        # Store the coefficients\n",
    "        self.a = a\n",
    "        self.b = b\n",
    "        self.c = c\n",
    "        self.d = d\n",
    "\n",
    "    def evaluate(self, x):\n",
    "        # Calculate the value of the polynomial at x\n",
    "        return #Exercise: what needs to be returned here?\n",
    "\n",
    "    def plot(self):\n",
    "        # Create a range of x values from -10 to 10\n",
    "        x_values = np.linspace(-10, 10, 100)\n",
    "        # Calculate the corresponding y values using the polynomial\n",
    "        y_values = self.evaluate(x_values)\n",
    "\n",
    "        # Plot the polynomial\n",
    "        plt.plot(x_values, y_values, label=f'{self.a}x^3 + {self.b}x^2 + {self.c}x + {self.d}')\n",
    "        plt.axhline(0, color='black', linewidth=0.5)  # X-axis\n",
    "        plt.axvline(0, color='black', linewidth=0.5)  # Y-axis\n",
    "\n",
    "        # Add the grid\n",
    "        plt.grid(True)\n",
    "\n",
    "        # Add labels, title, and legend\n",
    "        plt.xlabel(\"x\")\n",
    "        plt.ylabel(\"f(x)\")\n",
    "        plt.title(\"Plot of the Cubic Polynomial\")\n",
    "        plt.legend()\n",
    "\n",
    "        # Show the plot\n",
    "        plt.show()\n",
    "\n",
    "# Example usage\n",
    "my_cubic_poly = SimpleCubicPolynomial(1, -6, 11, -6)  # This represents the equation x^3 - 6x^2 + 11x - 6\n",
    "my_cubic_poly.plot()  # This will plot the polynomial"
   ]
  },
  {
   "cell_type": "code",
   "execution_count": null,
   "id": "beWnNqyJXfzS",
   "metadata": {
    "id": "beWnNqyJXfzS"
   },
   "outputs": [],
   "source": []
  },
  {
   "cell_type": "markdown",
   "id": "cda2e611-314c-4d0a-81b2-0d3ec200f38c",
   "metadata": {
    "id": "cda2e611-314c-4d0a-81b2-0d3ec200f38c"
   },
   "source": [
    "# Object Oriented Programming in Brief"
   ]
  },
  {
   "cell_type": "code",
   "execution_count": 1,
   "id": "dc2c7532",
   "metadata": {
    "id": "dc2c7532"
   },
   "outputs": [],
   "source": [
    "class Address:\n",
    "    def __init__(self, number, street, unit, city, zipcode):\n",
    "        self.number = number\n",
    "        self.street = street\n",
    "        self.unit = unit\n",
    "        self.city = city\n",
    "        self.zipcode = zipcode"
   ]
  },
  {
   "cell_type": "code",
   "execution_count": 2,
   "id": "f54f02bb",
   "metadata": {
    "id": "f54f02bb"
   },
   "outputs": [],
   "source": [
    "class Person:\n",
    "    def __init__(self, name, dob, address):\n",
    "        self.name = name\n",
    "        self.dob = dob\n",
    "        self.address = address"
   ]
  },
  {
   "cell_type": "code",
   "execution_count": 8,
   "id": "624cc768",
   "metadata": {
    "id": "624cc768"
   },
   "outputs": [],
   "source": [
    "import random\n",
    "class Employee(Person):\n",
    "    def __init__(self, name:str, id:str, address:Address, dob:str, doe:str, marritial_status:str):\n",
    "        super().__init__(name, dob, address)\n",
    "        self.id = id\n",
    "        self.doe = doe\n",
    "        self.marritial_status = marritial_status\n",
    "        self.department = None\n",
    "        self.__real_evaluation = 0\n",
    "\n",
    "\n",
    "    def department_description(self):\n",
    "        return (\"An Employee of this branch of the Our Company\")\n",
    "\n",
    "\n",
    "    def evaluation(self):\n",
    "        \"\"\"\n",
    "        Function Employee.evaluation() returns a rigorious evaluation about the\n",
    "        employee performance taking many factors into consideration:\n",
    "        years of service, number of served projects, peer review, manager review\n",
    "        \"\"\"\n",
    "\n",
    "        return f\"Mr./Ms. {self.name} Overall Evaluaition is {self.__rollAdice()}/6\"\n",
    "\n",
    "\n",
    "\n",
    "    ## Encapsulation\n",
    "    def __rollAdice(self):\n",
    "        return random.randint(1,6)\n",
    "\n"
   ]
  },
  {
   "cell_type": "code",
   "execution_count": 13,
   "id": "3813ac7f",
   "metadata": {
    "id": "3813ac7f"
   },
   "outputs": [],
   "source": [
    "## Inheritance\n",
    "class DeprtA_emp(Employee):\n",
    "    def __init__(self, name: str, id: str, address: Address, dof: str, doe: str, marritial_status: str):\n",
    "        super().__init__(name, id, address, dof, doe, marritial_status)\n",
    "        self.department = \"A\"\n",
    "\n",
    "    ## Polymorphism\n",
    "    def department_description(self):\n",
    "        return f\"{self.department} is my department... TAKE ME SERIOUSLLY\""
   ]
  },
  {
   "cell_type": "code",
   "execution_count": 14,
   "id": "219ee983",
   "metadata": {
    "id": "219ee983"
   },
   "outputs": [],
   "source": [
    "## Inheritance\n",
    "class DeprtB_emp(Employee):\n",
    "    def __init__(self, name: str, id: str, address: Address, dof: str, doe: str, marritial_status: str):\n",
    "        super().__init__(name, id, address, dof, doe, marritial_status)\n",
    "        self.department = \"B\"\n",
    "\n",
    "    ## Polymorphism\n",
    "    def department_description(self):\n",
    "        return f\"{self.department} is my department... WE ARE A JOKE!\""
   ]
  },
  {
   "cell_type": "code",
   "execution_count": 11,
   "id": "5c20d0dc",
   "metadata": {
    "id": "5c20d0dc"
   },
   "outputs": [],
   "source": [
    "## Inheritance\n",
    "class Manager(Employee):\n",
    "    def __init__(self, name, id, address, dof, doe, marritial_status):\n",
    "        super().__init__(name, address, dof, doe, marritial_status)\n",
    "        self.department = \"M\"\n",
    "        self.subordinates = []\n",
    "        self.evaluations = {}\n",
    "\n",
    "        def add_employee(e: Employee):\n",
    "            self.subordinates.append(e)\n",
    "            self.evaluation[e.id] = 0\n",
    "\n",
    "        def evaluate_employees():\n",
    "            for i, e in enumerate(self.subordinates):\n",
    "                self.evaluations[e.id] = input(f\"Put any evaluation you like for {e.name}: \")"
   ]
  },
  {
   "cell_type": "code",
   "execution_count": 15,
   "id": "3fca341c",
   "metadata": {
    "id": "3fca341c"
   },
   "outputs": [],
   "source": [
    "e0 = Employee(\"James Bond\", '007', Address(101, \"Some Planet\", 0, \"Wilmington\", \"5555\"), \"1/1/2015\", \"1/1/2023\", \"s\")\n",
    "e1 = DeprtA_emp(\"Adam Smith\", '11' , Address(123, \"Moon St.\", 11, \"Wilmington\", \"9876\"), \"1/1/2001\", \"11/11.2021\", 's')\n",
    "e2 = DeprtB_emp(\"Marry Currie\", '232', Address(321, \"Sun St.\", 22, \"Wilmington\", \"7890\"), \"2/2/2002\", \"1/1.2020\", 'm')"
   ]
  },
  {
   "cell_type": "code",
   "execution_count": 16,
   "id": "f0f9ada7",
   "metadata": {
    "id": "f0f9ada7",
    "outputId": "1b39a2e2-698d-49fe-e9fc-9f463a7f1151"
   },
   "outputs": [
    {
     "name": "stdout",
     "output_type": "stream",
     "text": [
      "An Employee of this branch of the Our Company\n",
      "A is my department... TAKE ME SERIOUSLLY\n",
      "B is my department... WE ARE A JOKE!\n",
      "\n",
      "        Function Employee.evaluation() returns a rigorious evaluation about the\n",
      "        employee performance taking many factors into consideration:\n",
      "        years of service, number of served projects, peer review, manager review\n",
      "        \n"
     ]
    },
    {
     "ename": "AttributeError",
     "evalue": "'DeprtA_emp' object has no attribute '__rollAdice'",
     "output_type": "error",
     "traceback": [
      "\u001b[0;31m---------------------------------------------------------------------------\u001b[0m",
      "\u001b[0;31mAttributeError\u001b[0m                            Traceback (most recent call last)",
      "Input \u001b[0;32mIn [16]\u001b[0m, in \u001b[0;36m<cell line: 11>\u001b[0;34m()\u001b[0m\n\u001b[1;32m      5\u001b[0m e1\u001b[38;5;241m.\u001b[39mevaluation()\n\u001b[1;32m      8\u001b[0m \u001b[38;5;66;03m## PSSSST... the company is rolling a dice on employees to get their performance using a function called\u001b[39;00m\n\u001b[1;32m      9\u001b[0m \u001b[38;5;66;03m## rollAdice\u001b[39;00m\n\u001b[0;32m---> 11\u001b[0m \u001b[43me1\u001b[49m\u001b[38;5;241;43m.\u001b[39;49m\u001b[43m__rollAdice\u001b[49m()\n",
      "\u001b[0;31mAttributeError\u001b[0m: 'DeprtA_emp' object has no attribute '__rollAdice'"
     ]
    }
   ],
   "source": [
    "employees = [e0, e1, e2]\n",
    "for e in employees:\n",
    "    print(e.department_description())\n",
    "print(e1.evaluation.__doc__)\n",
    "e1.evaluation()\n",
    "\n",
    "\n",
    "## PSSSST... the company is rolling a dice on employees to get their performance using a function called\n",
    "## rollAdice\n",
    "\n",
    "e1.__rollAdice()"
   ]
  }
 ],
 "metadata": {
  "colab": {
   "provenance": []
  },
  "kernelspec": {
   "display_name": "Python 3 (ipykernel)",
   "language": "python",
   "name": "python3"
  },
  "language_info": {
   "codemirror_mode": {
    "name": "ipython",
    "version": 3
   },
   "file_extension": ".py",
   "mimetype": "text/x-python",
   "name": "python",
   "nbconvert_exporter": "python",
   "pygments_lexer": "ipython3",
   "version": "3.10.6"
  }
 },
 "nbformat": 4,
 "nbformat_minor": 5
}
