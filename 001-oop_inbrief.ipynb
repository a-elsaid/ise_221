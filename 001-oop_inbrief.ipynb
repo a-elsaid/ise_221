{
 "cells": [
  {
   "cell_type": "markdown",
   "id": "a62c31b5-2429-4204-8b52-1e27f989edd3",
   "metadata": {},
   "source": [
    "# Python in Brief"
   ]
  },
  {
   "cell_type": "markdown",
   "id": "9acbf828-6b54-4cc0-b3bf-81b65537fb21",
   "metadata": {},
   "source": [
    "## Pyhton Syntax:\n",
    "- It's like telling a story to the computer\n",
    "- A story about how to work on a problem\n",
    "\n",
    "sentence \\\n",
    "sentence \\\n",
    "grouping sentences: \\\n",
    "    &ensp;&ensp;&ensp;&ensp;sentence \\\n",
    "    &ensp;&ensp;&ensp;&ensp;sentence \\\n",
    "    &ensp;&ensp;&ensp;&ensp;. \\\n",
    "    &ensp;&ensp;&ensp;&ensp;. \\\n",
    "    &ensp;&ensp;&ensp;&ensp;. "
   ]
  },
  {
   "cell_type": "markdown",
   "id": "a7ed8c0a-400c-4af4-9833-a027e7aae1e3",
   "metadata": {},
   "source": [
    "### Assignment Operator"
   ]
  },
  {
   "cell_type": "code",
   "execution_count": 4,
   "id": "21bf9acc-f28b-409c-94e9-1c6b6f249a57",
   "metadata": {},
   "outputs": [
    {
     "name": "stdin",
     "output_type": "stream",
     "text": [
      "Please Enter a Name:  Ahmed\n"
     ]
    },
    {
     "name": "stdout",
     "output_type": "stream",
     "text": [
      "The name entered is:  Ahmed\n"
     ]
    }
   ],
   "source": [
    "x = 3 # value assignment to a variable\n",
    "y = x\n",
    "name = input('Please Enter a Name: ') # assigning a value passed from the user using input()\n",
    "print ('The name entered is: ', z)"
   ]
  },
  {
   "cell_type": "markdown",
   "id": "b27fb74f-fb73-42a0-af11-85e8ed6a9ca7",
   "metadata": {},
   "source": [
    "### Casting Value"
   ]
  },
  {
   "cell_type": "code",
   "execution_count": 19,
   "id": "bcaec570-d45e-4b04-88ab-c203a68f00a5",
   "metadata": {},
   "outputs": [
    {
     "name": "stdin",
     "output_type": "stream",
     "text": [
      "Enter a Value: 3.1\n"
     ]
    },
    {
     "name": "stdout",
     "output_type": "stream",
     "text": [
      "<class 'str'>\n",
      "Can't add Integer to a String... Error Msg: can only concatenate str (not \"int\") to str\n"
     ]
    },
    {
     "ename": "ValueError",
     "evalue": "invalid literal for int() with base 10: '3.1'",
     "output_type": "error",
     "traceback": [
      "\u001b[0;31m---------------------------------------------------------------------------\u001b[0m",
      "\u001b[0;31mValueError\u001b[0m                                Traceback (most recent call last)",
      "Input \u001b[0;32mIn [19]\u001b[0m, in \u001b[0;36m<cell line: 8>\u001b[0;34m()\u001b[0m\n\u001b[1;32m      6\u001b[0m \u001b[38;5;28;01mexcept\u001b[39;00m \u001b[38;5;167;01mException\u001b[39;00m \u001b[38;5;28;01mas\u001b[39;00m error:\n\u001b[1;32m      7\u001b[0m     \u001b[38;5;28mprint\u001b[39m(\u001b[38;5;124mf\u001b[39m\u001b[38;5;124m\"\u001b[39m\u001b[38;5;124mCan\u001b[39m\u001b[38;5;124m'\u001b[39m\u001b[38;5;124mt add Integer to a String... Error Msg: \u001b[39m\u001b[38;5;132;01m{\u001b[39;00merror\u001b[38;5;132;01m}\u001b[39;00m\u001b[38;5;124m\"\u001b[39m)\n\u001b[0;32m----> 8\u001b[0m x \u001b[38;5;241m=\u001b[39m \u001b[38;5;28;43mint\u001b[39;49m\u001b[43m(\u001b[49m\u001b[43mx\u001b[49m\u001b[43m)\u001b[49m\n\u001b[1;32m      9\u001b[0m \u001b[38;5;28mprint\u001b[39m(\u001b[38;5;124mf\u001b[39m\u001b[38;5;124m\"\u001b[39m\u001b[38;5;124m'\u001b[39m\u001b[38;5;124mx\u001b[39m\u001b[38;5;124m'\u001b[39m\u001b[38;5;124m type: \u001b[39m\u001b[38;5;132;01m{\u001b[39;00m\u001b[38;5;28mtype\u001b[39m(x)\u001b[38;5;132;01m}\u001b[39;00m\u001b[38;5;124m... x value: \u001b[39m\u001b[38;5;132;01m{\u001b[39;00mx\u001b[38;5;132;01m}\u001b[39;00m\u001b[38;5;124m\"\u001b[39m) \n\u001b[1;32m     10\u001b[0m x \u001b[38;5;241m=\u001b[39m \u001b[38;5;28mfloat\u001b[39m(x)\n",
      "\u001b[0;31mValueError\u001b[0m: invalid literal for int() with base 10: '3.1'"
     ]
    }
   ],
   "source": [
    "x = input('Enter a Value:')\n",
    "print(type(x))\n",
    "try:\n",
    "    x = x + 3\n",
    "    print(x)\n",
    "except Exception as error:\n",
    "    print(f\"Can't add Integer to a String... Error Msg: {error}\")\n",
    "x = int(x)\n",
    "print(f\"'x' type: {type(x)}... x value: {x}\") "
   ]
  },
  {
   "cell_type": "code",
   "execution_count": 24,
   "id": "b6c144f0-8bee-41f4-ad78-58d8e43b1ac3",
   "metadata": {},
   "outputs": [
    {
     "name": "stdout",
     "output_type": "stream",
     "text": [
      "Type of x: <class 'int'> \n",
      "Type of y: <class 'float'>\n",
      "Value of x: 3 \n",
      "Value of y: 4.4\n",
      "\n",
      "Type of x: <class 'float'> \n",
      "Type of y: <class 'int'>\n",
      "Value of x: 3.0 \n",
      "Value of y: 4\n"
     ]
    }
   ],
   "source": [
    "x = 3\n",
    "y = 4.4\n",
    "print(\"Type of x:\", type(x), \"\\nType of y:\", type(y))\n",
    "print(\"Value of x:\", x, \"\\nValue of y:\", y)\n",
    "print()\n",
    "x = float(x)\n",
    "y = int(y)\n",
    "print(\"Type of x:\", type(x), \"\\nType of y:\", type(y))\n",
    "print(\"Value of x:\", x, \"\\nValue of y:\", y)"
   ]
  },
  {
   "cell_type": "markdown",
   "id": "35aa0d98-07e3-46eb-8aab-59c38d74ad7f",
   "metadata": {},
   "source": [
    "### Arithmetic Operators: \n",
    "- \\+ Addition\n",
    "- \\- Subtarction\n",
    "- \\* Multiplication\n",
    "- /  Division\n",
    "- // Floor Division\n",
    "- %  Modulo\n",
    "- ** Exponent\n",
    "- +=\n",
    "- -=\n",
    "- *=\n",
    "- /=\n",
    "- //=\n",
    "- %="
   ]
  },
  {
   "cell_type": "code",
   "execution_count": 40,
   "id": "7c5c9110-2334-4769-af0f-b8e6b45a4503",
   "metadata": {},
   "outputs": [
    {
     "name": "stdout",
     "output_type": "stream",
     "text": [
      "x + y = 18\n",
      "x - y = 8\n",
      "x * y = 65\n",
      "x / y = 2.6\n",
      "x // y = 2\n",
      "x % y = 3\n"
     ]
    }
   ],
   "source": [
    "x = 13\n",
    "y = 5\n",
    "print(\"x + y =\", x+y)\n",
    "print(\"x - y =\", x-y)\n",
    "print(\"x * y =\", x*y)\n",
    "print(\"x / y =\", x/y)\n",
    "print(\"x // y =\", x//y)\n",
    "print(\"x % y =\", x%y)"
   ]
  },
  {
   "cell_type": "code",
   "execution_count": 64,
   "id": "559e30fa-5c5a-4458-b328-0fe767df9d19",
   "metadata": {},
   "outputs": [
    {
     "name": "stdout",
     "output_type": "stream",
     "text": [
      "14\n",
      "12\n",
      "84\n",
      "16.8\n",
      "5.0\n",
      "2.0\n"
     ]
    }
   ],
   "source": [
    "x = 13\n",
    "y = 5\n",
    "x += 1\n",
    "print(x)\n",
    "x-=2\n",
    "print(x)\n",
    "x*=7\n",
    "print(x)\n",
    "x/=5\n",
    "print(x)\n",
    "x//=3\n",
    "print(x)\n",
    "x%=3\n",
    "print(x)"
   ]
  },
  {
   "cell_type": "markdown",
   "id": "2d73cac7-c53c-4a85-892b-dc7e3eb33dac",
   "metadata": {},
   "source": [
    "# Camparison Oprators:\n",
    "- == Equality\n",
    "- <  Less than\n",
    "- \\> Greater than\n",
    "- <= Less than or equal\n",
    "- \\>= Greater than or equal\n",
    "- != Not equal"
   ]
  },
  {
   "cell_type": "code",
   "execution_count": 77,
   "id": "d9cad013-b3e5-48d5-a474-3b42ef0cc22d",
   "metadata": {},
   "outputs": [
    {
     "name": "stdout",
     "output_type": "stream",
     "text": [
      "x: 2.0, y: 5\n",
      "x==y: False\n",
      "x<y: True\n",
      "x<=y: True\n",
      "x>y: False\n",
      "x>=y: False\n",
      "x>y: False\n",
      "x!=y: True\n"
     ]
    }
   ],
   "source": [
    "print(f'x: {x}, y: {y}')\n",
    "print('x==y:', x==y)\n",
    "print('x<y:', x<y)\n",
    "print('x<=y:', x<=y)\n",
    "print('x>y:', x>y)\n",
    "print('x>=y:', x>=y)\n",
    "print('x>y:', x>y)\n",
    "print('x!=y:', x!=y)"
   ]
  },
  {
   "cell_type": "markdown",
   "id": "bee06aeb-1417-4aa0-960d-ea0fcc73d736",
   "metadata": {},
   "source": [
    "## Lists"
   ]
  },
  {
   "cell_type": "code",
   "execution_count": 93,
   "id": "0a32b05a-42b6-4a5d-8758-0a7babc567c5",
   "metadata": {},
   "outputs": [],
   "source": [
    "lst1 = [11, 22, 33]"
   ]
  },
  {
   "cell_type": "code",
   "execution_count": 94,
   "id": "f4e2e36c-0a05-4203-aa97-b73d911d032e",
   "metadata": {},
   "outputs": [],
   "source": [
    "lst2 = [1, [22,23], 33]"
   ]
  },
  {
   "cell_type": "code",
   "execution_count": 95,
   "id": "3fe79f29-cff0-49d9-a377-e8b1685a9af2",
   "metadata": {},
   "outputs": [],
   "source": [
    "lst3 = [1, 'abc', 3]"
   ]
  },
  {
   "cell_type": "markdown",
   "id": "469e6910-5f8b-47ea-8df2-aba50af7d441",
   "metadata": {},
   "source": [
    "### Lists Basic Ooperation"
   ]
  },
  {
   "cell_type": "code",
   "execution_count": 101,
   "id": "ebec69b2-dfed-481c-ae53-58226c0e60f7",
   "metadata": {},
   "outputs": [
    {
     "name": "stdout",
     "output_type": "stream",
     "text": [
      "22\n"
     ]
    }
   ],
   "source": [
    "## Indexing\n",
    "print(lst1[1])"
   ]
  },
  {
   "cell_type": "code",
   "execution_count": 102,
   "id": "19eac9aa-9f09-4648-bc8e-8c68631865bb",
   "metadata": {},
   "outputs": [
    {
     "name": "stdout",
     "output_type": "stream",
     "text": [
      "[22, 23]\n"
     ]
    }
   ],
   "source": [
    "print(lst2[1])"
   ]
  },
  {
   "cell_type": "code",
   "execution_count": 105,
   "id": "75762a73-cca9-4ba0-a9c4-31ec5ca66788",
   "metadata": {},
   "outputs": [
    {
     "name": "stdout",
     "output_type": "stream",
     "text": [
      "23\n"
     ]
    }
   ],
   "source": [
    "print(lst2[1][1])"
   ]
  },
  {
   "cell_type": "code",
   "execution_count": 108,
   "id": "a8730fd9-e23b-4569-804e-01296082b8a0",
   "metadata": {},
   "outputs": [
    {
     "name": "stdout",
     "output_type": "stream",
     "text": [
      "abc\n",
      "b\n"
     ]
    }
   ],
   "source": [
    "print(lst3[1])\n",
    "print(lst3[1][1])"
   ]
  },
  {
   "cell_type": "code",
   "execution_count": 118,
   "id": "274636cf-124c-4eed-8cd5-8434e49a198b",
   "metadata": {},
   "outputs": [
    {
     "name": "stdout",
     "output_type": "stream",
     "text": [
      "[3, 4, 5, 6]\n",
      "[3, 5]\n",
      "[7, 6, 5, 4]\n",
      "[3, 4, 5, 6, 7, 9]\n",
      "6\n",
      "[6, 7, 9]\n"
     ]
    }
   ],
   "source": [
    "## Slicing\n",
    "lst = [1,2,3,4,5,6,7,9]\n",
    "print(lst[2:6])\n",
    "print(lst[2:6:2])\n",
    "print(lst[6:2:-1])\n",
    "print(lst[2:])\n",
    "print(lst[-3])\n",
    "print(lst[-3:])"
   ]
  },
  {
   "cell_type": "code",
   "execution_count": 120,
   "id": "2906017d-bbdf-48bd-9a46-78e9484b3b85",
   "metadata": {},
   "outputs": [
    {
     "name": "stdout",
     "output_type": "stream",
     "text": [
      "8\n"
     ]
    }
   ],
   "source": [
    "## List length\n",
    "print(len(lst))"
   ]
  },
  {
   "cell_type": "code",
   "execution_count": 121,
   "id": "1692e29d-a6ab-480b-8c12-982603975391",
   "metadata": {},
   "outputs": [
    {
     "name": "stdout",
     "output_type": "stream",
     "text": [
      "[1, 2, 3, 4, 5, 6, 7, 9, 11, 22, 33]\n"
     ]
    }
   ],
   "source": [
    "## Attaching list\n",
    "lst = lst + [11, 22, 33]\n",
    "print(lst)"
   ]
  },
  {
   "cell_type": "code",
   "execution_count": 122,
   "id": "53222143-6264-4e8d-8ef3-f4b67b89007e",
   "metadata": {},
   "outputs": [
    {
     "name": "stdout",
     "output_type": "stream",
     "text": [
      "[1, 2, 3, 4, 5, 6, 7, 9, 11, 22, 33, 1, 2, 3, 4, 5, 6, 7, 9, 11, 22, 33, 1, 2, 3, 4, 5, 6, 7, 9, 11, 22, 33]\n"
     ]
    }
   ],
   "source": [
    "## Repeating list elements\n",
    "print(lst*3)"
   ]
  },
  {
   "cell_type": "code",
   "execution_count": 125,
   "id": "126cc91f-71b8-438b-9f3c-1bea80a65a8c",
   "metadata": {},
   "outputs": [
    {
     "name": "stdout",
     "output_type": "stream",
     "text": [
      "True\n",
      "False\n"
     ]
    }
   ],
   "source": [
    "## Check if value is an elements of a list\n",
    "print(33 in lst)\n",
    "print(10 in lst)"
   ]
  },
  {
   "cell_type": "code",
   "execution_count": 2,
   "id": "b0a46f1c-c56e-4008-8ea2-6a0ea5bfd96e",
   "metadata": {},
   "outputs": [
    {
     "name": "stdout",
     "output_type": "stream",
     "text": [
      "[1, 2, 3]\n",
      "[1, 2, 3, 44]\n",
      "[1, 2, 3, 44, 55]\n"
     ]
    }
   ],
   "source": [
    "## Adding elements to a list\n",
    "lst = [1,2,3]\n",
    "print(lst)\n",
    "lst.append(44)\n",
    "print(lst)\n",
    "lst+= [55]\n",
    "print(lst)"
   ]
  },
  {
   "cell_type": "code",
   "execution_count": 3,
   "id": "110996d4-4310-4dcb-9eec-2877bc4af792",
   "metadata": {},
   "outputs": [
    {
     "name": "stdout",
     "output_type": "stream",
     "text": [
      "[1, 2, 3, 44, 55]\n",
      "[11, 2, 3, 44, 55]\n",
      "[11, 2, 3, 44, 5]\n"
     ]
    }
   ],
   "source": [
    "## Updating list element\n",
    "print(lst)\n",
    "lst[0] = 11\n",
    "print(lst)\n",
    "lst[-1] = 5\n",
    "print(lst)"
   ]
  },
  {
   "cell_type": "code",
   "execution_count": 4,
   "id": "55e53333-909e-4b80-829c-ba37105aa03b",
   "metadata": {},
   "outputs": [
    {
     "name": "stdout",
     "output_type": "stream",
     "text": [
      "[5, 44, 3, 2, 11]\n"
     ]
    }
   ],
   "source": [
    "## Reversing list\n",
    "lst.reverse()\n",
    "print(lst)"
   ]
  },
  {
   "cell_type": "code",
   "execution_count": 5,
   "id": "05267ba7-b46c-4cda-8fe1-48003e62480c",
   "metadata": {},
   "outputs": [
    {
     "name": "stdout",
     "output_type": "stream",
     "text": [
      "[5, 44, 3, 2, 11, 5, 44, 3, 2, 11]\n",
      "[5, 44, 3, 11, 5, 44, 3, 2, 11]\n"
     ]
    }
   ],
   "source": [
    "## Removing element from a list\n",
    "lst*=2\n",
    "print(lst)\n",
    "lst.remove(2)\n",
    "print(lst)"
   ]
  },
  {
   "cell_type": "markdown",
   "id": "abeee34b-56a9-4878-b6c5-50e0e0abc51e",
   "metadata": {},
   "source": [
    "## Iteration Control:\n",
    "- ### For loop\n",
    "- ### While loop"
   ]
  },
  {
   "cell_type": "code",
   "execution_count": 6,
   "id": "6fb95aea-5548-4887-a1b4-bd85fc3f98b7",
   "metadata": {},
   "outputs": [
    {
     "name": "stdout",
     "output_type": "stream",
     "text": [
      "5\n",
      "44\n",
      "3\n",
      "11\n",
      "5\n",
      "44\n",
      "3\n",
      "2\n",
      "11\n"
     ]
    }
   ],
   "source": [
    "## for loop: needs a collection of elements to iterate over (like a list, string, set, ..., range)\n",
    "for e in lst:\n",
    "    print(e)"
   ]
  },
  {
   "cell_type": "code",
   "execution_count": 7,
   "id": "95f544c1-70f0-468f-a981-8fbc382f3046",
   "metadata": {},
   "outputs": [
    {
     "name": "stdout",
     "output_type": "stream",
     "text": [
      "1 : 5\n",
      "2 : 44\n",
      "3 : 3\n",
      "4 : 11\n",
      "5 : 5\n",
      "6 : 44\n",
      "7 : 3\n",
      "8 : 2\n",
      "9 : 11\n"
     ]
    }
   ],
   "source": [
    "for i in range(len(lst)):\n",
    "    print(i+1, ':', lst[i])"
   ]
  },
  {
   "cell_type": "code",
   "execution_count": 8,
   "id": "66b25196-61f0-4ff7-ae26-4fb81ad2c578",
   "metadata": {},
   "outputs": [
    {
     "name": "stdout",
     "output_type": "stream",
     "text": [
      "0 : 5\n",
      "1 : 44\n",
      "2 : 3\n",
      "3 : 11\n",
      "4 : 5\n",
      "5 : 44\n",
      "6 : 3\n",
      "7 : 2\n",
      "8 : 11\n"
     ]
    }
   ],
   "source": [
    "c = 0\n",
    "while c<len(lst):\n",
    "    print(c, ':', lst[c])\n",
    "    c+=1  # must increment the counter to make sure we can break out of the loop"
   ]
  },
  {
   "cell_type": "markdown",
   "id": "36b86b5f-df00-409d-99f6-0bb13c2c698b",
   "metadata": {},
   "source": [
    "## Condition Control"
   ]
  },
  {
   "cell_type": "code",
   "execution_count": 42,
   "id": "f4371465-587b-4bb3-bb8d-cadf1418254b",
   "metadata": {},
   "outputs": [
    {
     "name": "stdout",
     "output_type": "stream",
     "text": [
      "Can not remove more elements from the list.. list size is not 5 or less\n",
      "[44, 3, 44, 3, 2]\n"
     ]
    }
   ],
   "source": [
    "x = 3\n",
    "if x not in lst:\n",
    "    print (x, 'is not in list')\n",
    "elif len(lst)<=5:\n",
    "    print('Can not remove more elements from the list.. list size is not 5 or less')\n",
    "else:\n",
    "    lst.remove(x)\n",
    "print(lst)"
   ]
  },
  {
   "cell_type": "markdown",
   "id": "1974dadf-907c-40b1-8a07-8a5cf67a61ec",
   "metadata": {},
   "source": [
    "## Sets\n",
    "Sets are collection of elements (like lists), BUT the elements of a set are unique"
   ]
  },
  {
   "cell_type": "code",
   "execution_count": 46,
   "id": "b532d9be-e032-4a53-a4c5-270497f34e1c",
   "metadata": {},
   "outputs": [
    {
     "name": "stdout",
     "output_type": "stream",
     "text": [
      "{1, 2, 3, 4}\n"
     ]
    }
   ],
   "source": [
    "set1 = {1,2,3,4,3,4,2,4,4,4,1,1}\n",
    "print(set1)"
   ]
  },
  {
   "cell_type": "code",
   "execution_count": 45,
   "id": "c2de6039-2488-4844-833a-c46756b31a72",
   "metadata": {},
   "outputs": [
    {
     "name": "stdout",
     "output_type": "stream",
     "text": [
      "[44, 3, 44, 3, 2]\n",
      "{2, 3, 44}\n"
     ]
    }
   ],
   "source": [
    "print(lst)\n",
    "set1 = set(lst)\n",
    "print(set1)"
   ]
  },
  {
   "cell_type": "markdown",
   "id": "3f26a53e-0fbf-4f55-ac26-4dae55af047d",
   "metadata": {},
   "source": [
    "## Dicitonary\n",
    "collection of elements of pair: a key and a value"
   ]
  },
  {
   "cell_type": "code",
   "execution_count": 49,
   "id": "9a6f07b0-f282-408b-becc-919829dba032",
   "metadata": {},
   "outputs": [
    {
     "name": "stdout",
     "output_type": "stream",
     "text": [
      "1 : Amy\n",
      "2 : John\n",
      "3 : Ahmed\n",
      "phi : no one\n",
      "twin1 : ['Mark', 'Elias']\n"
     ]
    }
   ],
   "source": [
    "d = {1:\"Amy\", 2:\"John\", 3:\"Ahmed\", 'phi':\"no one\", 'twin1':['Mark', 'Elias']}\n",
    "for k,v in d.items():\n",
    "    print(k, ':',v)"
   ]
  },
  {
   "cell_type": "markdown",
   "id": "cda2e611-314c-4d0a-81b2-0d3ec200f38c",
   "metadata": {},
   "source": [
    "# Object Oriented Programming in Brief"
   ]
  },
  {
   "cell_type": "code",
   "execution_count": 46,
   "id": "dc2c7532",
   "metadata": {},
   "outputs": [],
   "source": [
    "class Address:\n",
    "    def __init__(self, number, street, unit, city, zipcode):\n",
    "        self.number = number\n",
    "        self.street = street\n",
    "        self.unit = unit\n",
    "        self.city = city\n",
    "        self.zipcode = zipcode"
   ]
  },
  {
   "cell_type": "code",
   "execution_count": 105,
   "id": "f54f02bb",
   "metadata": {},
   "outputs": [],
   "source": [
    "class Person:\n",
    "    def __init__(self, name, dob, address):\n",
    "        self.name = name\n",
    "        self.dof = dob\n",
    "        self.address = address"
   ]
  },
  {
   "cell_type": "code",
   "execution_count": 256,
   "id": "624cc768",
   "metadata": {},
   "outputs": [],
   "source": [
    "import random\n",
    "class Employee(Person):\n",
    "    def __init__(self, name:str, address:Address, dob:str, doe:str, marritial_status:str):\n",
    "        super().__init__(name, dob, address)\n",
    "        self.doe = doe\n",
    "        self.marritial_status = marritial_status\n",
    "        self.department = None        \n",
    "        self.__real_evaluation = 0\n",
    "        \n",
    "\n",
    "    def department_description(self):\n",
    "        return (\"An Employee of this branch of the Our Company\")\n",
    "    \n",
    "    \n",
    "    def evaluation(self):\n",
    "        \"\"\"\n",
    "        Function Employee.evaluation() returns a rigorious evaluation about the \n",
    "        employee performance taking many factors into consideration:\n",
    "        years of service, number of served projects, peer review, manager review\n",
    "        \"\"\"\n",
    "        \n",
    "        return f\"Mr./Ms. {self.name} Overall Evaluaition is {self.__rollAdice()}/6\"\n",
    "  \n",
    "\n",
    "\n",
    "    ## Encapsulation\n",
    "    def __rollAdice(self):\n",
    "        return random.randint(1,6)\n",
    "    \n",
    "        "
   ]
  },
  {
   "cell_type": "code",
   "execution_count": 250,
   "id": "3813ac7f",
   "metadata": {},
   "outputs": [],
   "source": [
    "## Enheritance\n",
    "class DeprtA_emp(Employee):\n",
    "    def __init__(self, name: str, address: Address, dof: str, doe: str, marritial_status: str):\n",
    "        super().__init__(name, address, dof, doe, marritial_status)\n",
    "        self.department = \"A\"\n",
    "        \n",
    "    ## Polymorphism\n",
    "    def department_description(self):\n",
    "        return f\"{self.department} is my department... TAKE ME SERIOUSLLY\""
   ]
  },
  {
   "cell_type": "code",
   "execution_count": 251,
   "id": "219ee983",
   "metadata": {},
   "outputs": [],
   "source": [
    "## Enheritance\n",
    "class DeprtB_emp(Employee):\n",
    "    def __init__(self, name: str, address: Address, dof: str, doe: str, marritial_status: str):\n",
    "        super().__init__(name, address, dof, doe, marritial_status)\n",
    "        self.department = \"B\"\n",
    "         \n",
    "    ## Polymorphism\n",
    "    def department_description(self):\n",
    "        return f\"{self.department} is my department... WE ARE A JOKE!\""
   ]
  },
  {
   "cell_type": "code",
   "execution_count": 252,
   "id": "5c20d0dc",
   "metadata": {},
   "outputs": [],
   "source": [
    "## Enheritance\n",
    "class Manager(Employee):\n",
    "    def __init__(self, name, address, dof, doe, marritial_status):\n",
    "        super().__init__(name, address, dof, doe, marritial_status)\n",
    "        self.department = \"M\"\n",
    "        self.subordinates = []\n",
    "        self.evaluations = [] \n",
    "\n",
    "        def add_employee(e: Employee):\n",
    "            self.subordinates.append(e)\n",
    "            self.evaluation.append(0)\n",
    "            \n",
    "        def evaluate_employees():\n",
    "            for i, e in enumerate(self.subordinates):\n",
    "                self.evaluations = input(f\"Put any evaluation you like for {e.name}: \")"
   ]
  },
  {
   "cell_type": "code",
   "execution_count": 253,
   "id": "3fca341c",
   "metadata": {},
   "outputs": [],
   "source": [
    "e0 = Employee(\"The New Guy\", Address(101, \"Some Planet\", 0, \"Wilmington\", \"5555\"), \"1/1/2015\", \"1/1/2023\", \"s\")\n",
    "e1 = DeprtA_emp(\"Adam Smith\", Address(123, \"Moon St.\", 11, \"Wilmington\", \"9876\"), \"1/1/2001\", \"11/11.2021\", 's')\n",
    "e2 = DeprtB_emp(\"Marry Currie\", Address(321, \"Sun St.\", 22, \"Wilmington\", \"7890\"), \"2/2/2002\", \"1/1.2020\", 'm')"
   ]
  },
  {
   "cell_type": "code",
   "execution_count": 257,
   "id": "f0f9ada7",
   "metadata": {},
   "outputs": [
    {
     "name": "stdout",
     "output_type": "stream",
     "text": [
      "An Employee of this branch of the Our Company\n",
      "A is my department... TAKE ME SERIOUSLLY\n",
      "B is my department... WE ARE A JOKE!\n",
      "\n",
      "        Function Employee.evaluation() returns a rigorious evaluation about the \n",
      "        employee performance taking many factors into consideration:\n",
      "        years of service, number of served projects, peer review, manager review\n",
      "        \n"
     ]
    },
    {
     "ename": "AttributeError",
     "evalue": "'DeprtA_emp' object has no attribute '__rollAdice'",
     "output_type": "error",
     "traceback": [
      "\u001b[0;31m---------------------------------------------------------------------------\u001b[0m",
      "\u001b[0;31mAttributeError\u001b[0m                            Traceback (most recent call last)",
      "Input \u001b[0;32mIn [257]\u001b[0m, in \u001b[0;36m<cell line: 11>\u001b[0;34m()\u001b[0m\n\u001b[1;32m      5\u001b[0m e1\u001b[38;5;241m.\u001b[39mevaluation()\n\u001b[1;32m      8\u001b[0m \u001b[38;5;66;03m## PSSSST... the company is rolling a dice on employees to get their performance using a function called \u001b[39;00m\n\u001b[1;32m      9\u001b[0m \u001b[38;5;66;03m## rollAdice\u001b[39;00m\n\u001b[0;32m---> 11\u001b[0m \u001b[43me1\u001b[49m\u001b[38;5;241;43m.\u001b[39;49m\u001b[43m__rollAdice\u001b[49m()\n",
      "\u001b[0;31mAttributeError\u001b[0m: 'DeprtA_emp' object has no attribute '__rollAdice'"
     ]
    }
   ],
   "source": [
    "employees = [e0, e1, e2]\n",
    "for e in employees:\n",
    "    print(e.department_description())\n",
    "print(e1.evaluation.__doc__)    \n",
    "e1.evaluation()\n",
    "\n",
    "\n",
    "## PSSSST... the company is rolling a dice on employees to get their performance using a function called \n",
    "## rollAdice\n",
    "\n",
    "e1.__rollAdice()"
   ]
  }
 ],
 "metadata": {
  "kernelspec": {
   "display_name": "Python 3 (ipykernel)",
   "language": "python",
   "name": "python3"
  },
  "language_info": {
   "codemirror_mode": {
    "name": "ipython",
    "version": 3
   },
   "file_extension": ".py",
   "mimetype": "text/x-python",
   "name": "python",
   "nbconvert_exporter": "python",
   "pygments_lexer": "ipython3",
   "version": "3.10.6"
  }
 },
 "nbformat": 4,
 "nbformat_minor": 5
}
