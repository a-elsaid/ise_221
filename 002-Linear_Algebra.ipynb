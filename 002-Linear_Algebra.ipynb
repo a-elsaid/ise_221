{
 "cells": [
  {
   "cell_type": "markdown",
   "id": "b2e1b7e2-e8d4-4f9c-98b1-a726cbca8d73",
   "metadata": {},
   "source": [
    "# Matrices & Vectors\n",
    "## Review: Linear Algebra\n"
   ]
  },
  {
   "cell_type": "markdown",
   "id": "b2e3153a-1557-4469-90f9-c661fbae9a6a",
   "metadata": {},
   "source": [
    "---"
   ]
  },
  {
   "cell_type": "markdown",
   "id": "18edfbed-1959-45fb-8200-7c37da17f658",
   "metadata": {},
   "source": [
    "## Matricies: Rectangular array of numbers\n",
    "$\n",
    "    \\begin{bmatrix}\n",
    "    1344 & 221 \\\\\n",
    "    1371 & 821 \\\\\n",
    "    949  & 1437 \\\\\n",
    "    147  & 1448\n",
    "    \\end{bmatrix} \\rightarrow \\mathbb{R}^{4\\times2}\n",
    "$\n",
    "\n",
    "$\n",
    "    \\begin{bmatrix}\n",
    "    1 & 2 & 3 \\\\\n",
    "    4 & 5 & 6 \\\\\n",
    "    \\end{bmatrix} \\rightarrow \\mathbb{R}^{2\\times3}\n",
    "$\n",
    "\n",
    "### Dimension of matrix: number of rows $\\times$ number of columns"
   ]
  },
  {
   "cell_type": "markdown",
   "id": "950f1e45-4252-4ec7-b079-2d1ff16d9e18",
   "metadata": {},
   "source": [
    "$\n",
    "    A = \\begin{bmatrix}\n",
    "    1344 & 221 \\\\\n",
    "    1371 & 821 \\\\\n",
    "    949  & 1437 \\\\\n",
    "    147  & 1448\n",
    "    \\end{bmatrix} \\rightarrow \\mathbb{R}^{4\\times2}\n",
    "$\n",
    "\n",
    "### $A_{ij}:$ $i,j$ entry in the $i^{th}$ row $j^{th}$ comlumns\n",
    "\n",
    "$A_{11} = 1344$ \n",
    "\n",
    "$A_{12} = 221$  \n",
    "\n",
    "$A_{32} = 1437$ \n",
    "\n",
    "$A_{41} = 147$ \n",
    "\n",
    "$A_{43} = Undefined$\n",
    "\n",
    "### **Note:** in computers, $i,j$ start from $0$, not $1$ \n",
    "$A[1,1] = 821$"
   ]
  },
  {
   "cell_type": "markdown",
   "id": "5c6d5c21-32f2-4300-93cc-3c7520e6971e",
   "metadata": {},
   "source": [
    "---"
   ]
  },
  {
   "cell_type": "markdown",
   "id": "b92222aa-4ef1-43b1-83f2-f669ba5b209a",
   "metadata": {},
   "source": [
    "## Vector: An $n\\times1$ matrix\n",
    "\n",
    "$\n",
    "    y = \\begin{bmatrix}\n",
    "    460 \\\\\n",
    "    232 \\\\\n",
    "    315 \\\\\n",
    "    178\n",
    "\\end{bmatrix} \\rightarrow \\mathbb{R}^4 $\n",
    "\n",
    "### $y_{i}:$ $i^{th}$ element\n",
    "\n",
    "$y_{1} = 460$ \n",
    "\n",
    "$y_{2} = 232$  \n",
    "\n",
    "$y_{3} = 315$ \n",
    "\n",
    "\n",
    "$A_{43} = Undefined$\n",
    "\n",
    "### **Note:** in computers, $i$ starts from $0$, not $1$ \n",
    "$y[1] = 232$"
   ]
  },
  {
   "cell_type": "markdown",
   "id": "21d23b72-00b8-4950-a41a-abfcbf6f2bc4",
   "metadata": {},
   "source": [
    "---"
   ]
  },
  {
   "cell_type": "markdown",
   "id": "41513a5d-a6a2-489f-95bb-b2d5007a2e7d",
   "metadata": {},
   "source": [
    "## Matrix Addition\n",
    "\n",
    "$\n",
    "\\begin{bmatrix}\n",
    "1 & 0 \\\\\n",
    "2 & 5 \\\\\n",
    "3 & 1 \\\\\n",
    "\\end{bmatrix}_{(3\\times2)}\n",
    "+\n",
    "\\begin{bmatrix}\n",
    "4 & 0.5 \\\\\n",
    "2 & 5 \\\\\n",
    "0 & 1\n",
    "\\end{bmatrix}_{(3\\times2)}\n",
    "=\n",
    "\\begin{bmatrix}\n",
    "5 & 0.5 \\\\\n",
    "4 & 10 \\\\\n",
    "3 & 2\n",
    "\\end{bmatrix}_{(3\\times2)}\n",
    "$\n",
    "\n",
    "\n",
    "$\n",
    "\\begin{bmatrix}\n",
    "1 & 0 \\\\\n",
    "2 & 5 \\\\\n",
    "3 & 1 \\\\\n",
    "\\end{bmatrix}_{(3\\times2)}\n",
    "+\n",
    "\\begin{bmatrix}\n",
    "4 & 0.5 \\\\\n",
    "2 & 5 \\\\\n",
    "\\end{bmatrix}_{(2\\times2)}\n",
    "= ERROR\n",
    "$"
   ]
  },
  {
   "cell_type": "markdown",
   "id": "5e61a204-9f3a-4d31-a89d-17c7b69a26e0",
   "metadata": {},
   "source": [
    "## Matrix Scalar Multiplication\n",
    "\n",
    "$\n",
    "3 \\times\n",
    "\\begin{bmatrix}\n",
    "1 & 0 \\\\\n",
    "2 & 5 \\\\\n",
    "3 & 1 \\\\\n",
    "\\end{bmatrix}\n",
    "=\n",
    "\\begin{bmatrix}\n",
    "3 & 0 \\\\\n",
    "6 & 15 \\\\\n",
    "9 & 3 \\\\\n",
    "\\end{bmatrix}\n",
    "=\n",
    "\\begin{bmatrix}\n",
    "1 & 0 \\\\\n",
    "2 & 5 \\\\\n",
    "3 & 1 \\\\\n",
    "\\end{bmatrix} \\times 3\n",
    "$\n",
    "\n",
    "$\n",
    "\\begin{bmatrix}\n",
    "4 & 0 \\\\\n",
    "6 & 5 \\\\\n",
    "\\end{bmatrix} /4\n",
    "= \n",
    "\\begin{bmatrix}\n",
    "1 & 0 \\\\\n",
    "\\frac{3}{2} & \\frac{5}{4} \\\\\n",
    "\\end{bmatrix}\n",
    "$"
   ]
  },
  {
   "cell_type": "markdown",
   "id": "1bf5a69d-b104-45c3-a806-ac729f4081a6",
   "metadata": {},
   "source": [
    "## Combination of Operands\n",
    "\n",
    "$\n",
    "3 \\times \n",
    "\\begin{bmatrix}\n",
    "1 \\\\ 4 \\\\ 2\n",
    "\\end{bmatrix}\n",
    "+\n",
    "\\begin{bmatrix}\n",
    "0 \\\\ 0 \\\\ 5\n",
    "\\end{bmatrix}\n",
    "-\n",
    "\\begin{bmatrix}\n",
    "3 \\\\ 0 \\\\ 2\n",
    "\\end{bmatrix}\n",
    "/3\n",
    "$\n",
    "\n",
    "$\n",
    "\\quad=\n",
    "\\begin{bmatrix}\n",
    "3 \\\\ 12 \\\\ 6\n",
    "\\end{bmatrix}\n",
    "+\n",
    "\\begin{bmatrix}\n",
    "0 \\\\ 0 \\\\ 5\n",
    "\\end{bmatrix}\n",
    "-\n",
    "\\begin{bmatrix}\n",
    "1 \\\\ 0 \\\\ \\frac{2}{3}\n",
    "\\end{bmatrix}\n",
    "$\n",
    "\n",
    "$\n",
    "\\begin{bmatrix}\n",
    "2 \\\\ 12 \\\\11-\\frac{2}{3}\n",
    "\\end{bmatrix}\n",
    "=\n",
    "\\begin{bmatrix}\n",
    "2 \\\\ 12 \\\\ \\frac{33-2}{3}\n",
    "\\end{bmatrix}\n",
    "=\n",
    "\\begin{bmatrix}\n",
    "2 \\\\ 12 \\\\ \\frac{31}{3}\n",
    "\\end{bmatrix}\n",
    "=\n",
    "\\begin{bmatrix}\n",
    "2 \\\\ 12 \\\\ 10\\frac{1}{3}\n",
    "\\end{bmatrix}\n",
    "$"
   ]
  },
  {
   "cell_type": "markdown",
   "id": "19e71415-ea72-430b-a25a-391ac87b909c",
   "metadata": {},
   "source": [
    "## Matrix-Vector Multiplication\n",
    "\n",
    "$\n",
    "\\begin{bmatrix}\n",
    "1 & 3 \\\\\n",
    "4 & 0 \\\\\n",
    "2 & 1\n",
    "\\end{bmatrix}_{3\\times2}\n",
    "\\begin{bmatrix}\n",
    "1 \\\\ 5\n",
    "\\end{bmatrix}_{2\\times1}\n",
    "=\n",
    "\\begin{bmatrix}\n",
    "(1\\times1) + (3\\times5) \\\\\n",
    "(4\\times1) + (0\\times5) \\\\\n",
    "(2\\times1) + (1\\times5) \\\\\n",
    "\\end{bmatrix}\n",
    "=\n",
    "\\begin{bmatrix}\n",
    "(1) + (15) \\\\\n",
    "(4) + (0) \\\\\n",
    "(2) + (5) \\\\\n",
    "\\end{bmatrix}\n",
    "=\n",
    "\\begin{bmatrix}\n",
    "16 \\\\\n",
    "4 \\\\\n",
    "7\n",
    "\\end{bmatrix}_{3\\times1}\n",
    "$\n",
    "\n",
    "\n",
    "### Method: if $A$ is a matrix, $x$ is a vector, then to get $y = A \\times x$: multiply $A$'s $i^{th}$ row with the elements of $x$, and add them up\n",
    "\n",
    "\n",
    "### Example:\n",
    "$\n",
    "\\begin{bmatrix}\n",
    "1 & 2 & 1 & 5 \\\\\n",
    "0 & 3 & 0 & 4 \\\\\n",
    "-1 & -2 & 0 & 0 \\\\\n",
    "\\end{bmatrix}_{3\\times4}\n",
    "\\begin{bmatrix}\n",
    "1 \\\\ 3 \\\\ 2 \\\\ 1\n",
    "\\end{bmatrix}_{4\\times1}\n",
    "=\n",
    "\\begin{bmatrix}\n",
    "(1\\times1) + (2\\times3)  + (1\\times2) + (5\\times1)\\\\\n",
    "(0\\times1) + (3\\times3)  + (0\\times2) + (4\\times1)\\\\\n",
    "(-1\\times1) + (-2\\times3)  + (0\\times2) + (0\\times1)\\\\\n",
    "\\end{bmatrix}\n",
    "=\n",
    "\\begin{bmatrix}\n",
    "(1) + (6) + (2) + (5) \\\\\n",
    "(0) + (9) + (0) + (4) \\\\\n",
    "(-1) + (-6) + (0) + (0) \\\\\n",
    "\\end{bmatrix}\n",
    "=\n",
    "\\begin{bmatrix}\n",
    "14 \\\\\n",
    "13 \\\\\n",
    "-7\n",
    "\\end{bmatrix}_{3\\times1}\n",
    "$"
   ]
  },
  {
   "cell_type": "markdown",
   "id": "340e893f-5e1e-4128-9d2f-23e240e41d48",
   "metadata": {},
   "source": [
    "## Matrix-Matrix Multiplication\n",
    "\n",
    "$\n",
    "\\begin{bmatrix}\n",
    "1 & 3 & 2 \\\\\n",
    "4 & 0 & 1\\\\\n",
    "\\end{bmatrix}_{2\\times3}\n",
    "\\begin{bmatrix}\n",
    "1 & 3 \\\\\n",
    "0 & 1 \\\\ \n",
    "5 & 2\n",
    "\\end{bmatrix}_{3\\times2}\n",
    "$\n",
    "\n",
    "---\n",
    "\n",
    "$\n",
    "\\begin{bmatrix}\n",
    "1 & 3 & 2 \\\\\n",
    "4 & 0 & 1\\\\\n",
    "\\end{bmatrix}_{2\\times3}\n",
    "\\begin{bmatrix}\n",
    "1 \\\\\n",
    "0 \\\\ \n",
    "5\n",
    "\\end{bmatrix}_{3\\times1}\n",
    "=\n",
    "\\begin{bmatrix}\n",
    "11\\\\\n",
    "9\n",
    "\\end{bmatrix}_{2\\times1}\n",
    "$\n",
    "\n",
    "$\n",
    "\\begin{bmatrix}\n",
    "1 & 3 & 2 \\\\\n",
    "4 & 0 & 1\\\\\n",
    "\\end{bmatrix}_{2\\times3}\n",
    "\\begin{bmatrix}\n",
    "3 \\\\\n",
    "1 \\\\ \n",
    "2\n",
    "\\end{bmatrix}_{3\\times1}\n",
    "=\n",
    "\\begin{bmatrix}\n",
    "10\\\\\n",
    "14\n",
    "\\end{bmatrix}_{2\\times1}\n",
    "$\n",
    "\n",
    "---\n",
    "\n",
    "$\n",
    "\\begin{bmatrix}\n",
    "1 & 3 & 2 \\\\\n",
    "4 & 0 & 1\\\\\n",
    "\\end{bmatrix}_{2\\times3}\n",
    "\\begin{bmatrix}\n",
    "1 & 3 \\\\\n",
    "0 & 1 \\\\ \n",
    "5 & 2\n",
    "\\end{bmatrix}_{3\\times2}\n",
    "=\n",
    "\\begin{bmatrix}\n",
    "11 & 10\\\\\n",
    "9  & 14\n",
    "\\end{bmatrix}_{2\\times2}\n",
    "$\n",
    "\n",
    "### Example:\n",
    "\n",
    "$\n",
    "\\begin{bmatrix}\n",
    "1 & 3 \\\\\n",
    "2 & 5 \\\\\n",
    "\\end{bmatrix}_{2\\times2}\n",
    "\\begin{bmatrix}\n",
    "0 & 1 \\\\\n",
    "3 & 2 \\\\\n",
    "\\end{bmatrix}_{2\\times2}\n",
    "=\n",
    "\\begin{bmatrix}\n",
    "\\big((1\\times0)+(3\\times3)\\big) & \\big((1\\times1)+(3\\times2)\\big) \\\\\n",
    "\\big((2\\times0)+(5\\times3)\\big) & \\big((2\\times1)+(5\\times2)\\big) \\\\\n",
    "\\end{bmatrix}_{2\\times2}\n",
    "=\n",
    "\\begin{bmatrix}\n",
    "\\big(0+9\\big) & \\big(1+6\\big) \\\\\n",
    "\\big(0+15\\big) & \\big(2+10\\big) \\\\\n",
    "\\end{bmatrix}_{2\\times2}\n",
    "=\n",
    "\\begin{bmatrix}\n",
    "9 & 7 \\\\\n",
    "15 & 12 \\\\\n",
    "\\end{bmatrix}_{2\\times2}\n",
    "$"
   ]
  },
  {
   "cell_type": "markdown",
   "id": "edda0221-b3a1-4891-9243-adbd57504005",
   "metadata": {},
   "source": [
    "## Matrix Multiplication Properties\n",
    "### if $A$ and $B$ are matrices:\n",
    "\n",
    "#### In general: $A \\times B \\neq B \\times A$ (not commutative)\n",
    "\n",
    "### Example:\n",
    "$\n",
    "\\begin{bmatrix}\n",
    "1 & 1 \\\\\n",
    "0 & 0 \\\\\n",
    "\\end{bmatrix}_{2\\times2}\n",
    "\\begin{bmatrix}\n",
    "0 & 0 \\\\\n",
    "2 & 0 \\\\\n",
    "\\end{bmatrix}_{2\\times2}\n",
    "=\n",
    "\\begin{bmatrix}\n",
    "2 & 0 \\\\\n",
    "0 & 0 \\\\\n",
    "\\end{bmatrix}_{2\\times2}\n",
    "$\n",
    "\n",
    "$\\neq$\n",
    "\n",
    "$\n",
    "\\begin{bmatrix}\n",
    "0 & 0 \\\\\n",
    "2 & 0 \\\\\n",
    "\\end{bmatrix}_{2\\times2}\n",
    "\\begin{bmatrix}\n",
    "1 & 1 \\\\\n",
    "0 & 0 \\\\\n",
    "\\end{bmatrix}_{2\\times2}\n",
    "=\n",
    "\\begin{bmatrix}\n",
    "0 & 0 \\\\\n",
    "2 & 2 \\\\\n",
    "\\end{bmatrix}_{2\\times2}\n",
    "$\n",
    "\n",
    "#### $ A \\times B \\times C = A \\times (B \\times C) = (A \\times B) \\times C $"
   ]
  },
  {
   "cell_type": "markdown",
   "id": "c555d85f-158d-4643-a690-98f0cf17e1d7",
   "metadata": {},
   "source": [
    "### Identity Matrix \n",
    "\n",
    "$\n",
    "I_{(2\\times2)} = \n",
    "\\begin{bmatrix}\n",
    "1 & 0 \\\\\n",
    "0 & \n",
    "\\end{bmatrix}\n",
    "$\n",
    "\n",
    "$\n",
    "I_{(3\\times3)} = \n",
    "\\begin{bmatrix}\n",
    "1 & 0 & 0 \\\\\n",
    "0 & 1 & 0 \\\\\n",
    "0 & 0 & 1 \\\\\n",
    "\\end{bmatrix}\n",
    "$\n",
    "\n",
    "$\n",
    "I_{(4\\times4)} = \n",
    "\\begin{bmatrix}\n",
    "1 & 0 & 0 & 0 \\\\\n",
    "0 & 1 & 0 & 0 \\\\\n",
    "0 & 0 & 1 & 0 \\\\\n",
    "0 & 0 & 0 & 1 \\\\\n",
    "\\end{bmatrix}\n",
    "$\n",
    "\n",
    "#### For any matrix $A$: $A \\times I = I \\times A = A$"
   ]
  },
  {
   "cell_type": "markdown",
   "id": "976dc0d4-25bf-4ac4-ba9b-70b8e9532dca",
   "metadata": {},
   "source": [
    "### Inverse of a Matrix\n",
    "#### $A_{(n \\times n)} \\times A^{-1} = A^{-1} \\times A = I$\n",
    "\n",
    "if $A = \\begin{bmatrix}\n",
    "        a_{11} & a_{12} \\\\\n",
    "        a_{21} & a_{22}\n",
    "        \\end{bmatrix}\n",
    "   $\n",
    "then \n",
    "$\n",
    "A^{-1} = \\frac{1}{a_{11}a_{22}-a_{12}a_{21}} \\times \\begin{bmatrix}\n",
    "                                                        a_{22} & -a_{12} \\\\\n",
    "                                                        -a_{21} & a_{11}\n",
    "                                                        \\end{bmatrix}\n",
    "$\n",
    "### Example:\n",
    "$\n",
    "\\begin{bmatrix}\n",
    "3 & 4 \\\\\n",
    "2 & 16\\\\\n",
    "\\end{bmatrix}\n",
    "\\begin{bmatrix}\n",
    "0.4 & -0.1 \\\\\n",
    "-0.05 & 0.075 \\\\\n",
    "\\end{bmatrix}\n",
    "=\n",
    "\\begin{bmatrix}\n",
    "1 & 0 \\\\\n",
    "0 & 1 \\\\\n",
    "\\end{bmatrix}\n",
    "$"
   ]
  },
  {
   "cell_type": "markdown",
   "id": "681b099b-03a9-401a-8c04-888715971b6a",
   "metadata": {},
   "source": [
    "### Matrix Transpose\n",
    "if \n",
    "$\n",
    "A = \\begin{bmatrix}\n",
    "1 & 2 & 0 \\\\\n",
    "3 & 5 & 9 \\\\\n",
    "\\end{bmatrix}\n",
    "$\n",
    "\n",
    "$\n",
    "A^T = \\begin{bmatrix}\n",
    "1 & 3 \\\\\n",
    "2 & 5 \\\\\n",
    "0 & 9 \\\\\n",
    "\\end{bmatrix}\n",
    "$"
   ]
  },
  {
   "cell_type": "markdown",
   "id": "1fe81383-e7a6-42f6-89e4-1617d944c84c",
   "metadata": {},
   "source": [
    "# Introducing NumPy"
   ]
  },
  {
   "cell_type": "code",
   "execution_count": 23,
   "id": "63f949ab-d6d4-4e04-8eed-9f1bf5f47ecb",
   "metadata": {},
   "outputs": [],
   "source": [
    "import numpy as np # np is an alias for numpy module"
   ]
  },
  {
   "cell_type": "code",
   "execution_count": 15,
   "id": "404f1903-5de9-4343-a831-2d5ee73cdb53",
   "metadata": {},
   "outputs": [],
   "source": [
    "lst = [1,2,3,4]"
   ]
  },
  {
   "cell_type": "code",
   "execution_count": 20,
   "id": "c904c8d0-2697-4acb-b78e-700441ab5c82",
   "metadata": {},
   "outputs": [],
   "source": [
    "arr = np.array(lst)"
   ]
  },
  {
   "cell_type": "code",
   "execution_count": 22,
   "id": "79c9c47d-bc37-4dd4-a2c0-f5d8b9eb3116",
   "metadata": {},
   "outputs": [
    {
     "name": "stdout",
     "output_type": "stream",
     "text": [
      "<class 'numpy.ndarray'>\n"
     ]
    }
   ],
   "source": [
    "print(type(arr))"
   ]
  },
  {
   "cell_type": "markdown",
   "id": "68dcaef3-c5cb-4957-8828-1851fbfbde0a",
   "metadata": {},
   "source": [
    "#### NumPy is faster that lists\n",
    "1. NumPy arrays are saved in adjacent location in memory, Unlike Lists, which are linked lists.\n",
    "2. Numpy operations are optimized for faster performance\n",
    "3. Some of the NumPy operation are in C/C++ $\\rightarrow$ faster"
   ]
  },
  {
   "cell_type": "code",
   "execution_count": 45,
   "id": "f38be435-3efe-4d30-a310-3fc2bf19e8f9",
   "metadata": {},
   "outputs": [
    {
     "name": "stdout",
     "output_type": "stream",
     "text": [
      "arr: 43\n",
      "type(arr): <class 'numpy.ndarray'>\n",
      "arr.shape: ()\n"
     ]
    },
    {
     "ename": "IndexError",
     "evalue": "too many indices for array: array is 0-dimensional, but 1 were indexed",
     "output_type": "error",
     "traceback": [
      "\u001b[0;31m---------------------------------------------------------------------------\u001b[0m",
      "\u001b[0;31mIndexError\u001b[0m                                Traceback (most recent call last)",
      "Input \u001b[0;32mIn [45]\u001b[0m, in \u001b[0;36m<cell line: 5>\u001b[0;34m()\u001b[0m\n\u001b[1;32m      3\u001b[0m \u001b[38;5;28mprint\u001b[39m(\u001b[38;5;124m'\u001b[39m\u001b[38;5;124mtype(arr):\u001b[39m\u001b[38;5;124m'\u001b[39m, \u001b[38;5;28mtype\u001b[39m(arr))\n\u001b[1;32m      4\u001b[0m \u001b[38;5;28mprint\u001b[39m(\u001b[38;5;124m'\u001b[39m\u001b[38;5;124marr.shape:\u001b[39m\u001b[38;5;124m'\u001b[39m, arr\u001b[38;5;241m.\u001b[39mshape)\n\u001b[0;32m----> 5\u001b[0m \u001b[38;5;28mprint\u001b[39m(\u001b[38;5;124m'\u001b[39m\u001b[38;5;124marr[0]:\u001b[39m\u001b[38;5;124m'\u001b[39m, \u001b[43marr\u001b[49m\u001b[43m[\u001b[49m\u001b[38;5;241;43m0\u001b[39;49m\u001b[43m]\u001b[49m)\n",
      "\u001b[0;31mIndexError\u001b[0m: too many indices for array: array is 0-dimensional, but 1 were indexed"
     ]
    }
   ],
   "source": [
    "arr = np.array(43)\n",
    "print('arr:', arr) # 0-D array\n",
    "print('type(arr):', type(arr))\n",
    "print('arr.shape:', arr.shape)\n",
    "print('arr[0]:', arr[0])"
   ]
  },
  {
   "cell_type": "code",
   "execution_count": 44,
   "id": "d8b6bb6d-f987-40c6-9228-d4bd50c8d37a",
   "metadata": {},
   "outputs": [
    {
     "name": "stdout",
     "output_type": "stream",
     "text": [
      "[1 2 3 4]\n",
      "type(arr): <class 'numpy.ndarray'>\n",
      "arr.shape: (4,)\n",
      "arr[0]: 1\n",
      "arr[3]: 4\n"
     ]
    },
    {
     "ename": "IndexError",
     "evalue": "index 4 is out of bounds for axis 0 with size 4",
     "output_type": "error",
     "traceback": [
      "\u001b[0;31m---------------------------------------------------------------------------\u001b[0m",
      "\u001b[0;31mIndexError\u001b[0m                                Traceback (most recent call last)",
      "Input \u001b[0;32mIn [44]\u001b[0m, in \u001b[0;36m<cell line: 7>\u001b[0;34m()\u001b[0m\n\u001b[1;32m      5\u001b[0m \u001b[38;5;28mprint\u001b[39m(\u001b[38;5;124m'\u001b[39m\u001b[38;5;124marr[0]:\u001b[39m\u001b[38;5;124m'\u001b[39m, arr[\u001b[38;5;241m0\u001b[39m])\n\u001b[1;32m      6\u001b[0m \u001b[38;5;28mprint\u001b[39m(\u001b[38;5;124m'\u001b[39m\u001b[38;5;124marr[3]:\u001b[39m\u001b[38;5;124m'\u001b[39m, arr[\u001b[38;5;241m3\u001b[39m])\n\u001b[0;32m----> 7\u001b[0m \u001b[38;5;28mprint\u001b[39m(\u001b[38;5;124m'\u001b[39m\u001b[38;5;124marr[4]:\u001b[39m\u001b[38;5;124m'\u001b[39m, \u001b[43marr\u001b[49m\u001b[43m[\u001b[49m\u001b[38;5;241;43m4\u001b[39;49m\u001b[43m]\u001b[49m)\n",
      "\u001b[0;31mIndexError\u001b[0m: index 4 is out of bounds for axis 0 with size 4"
     ]
    }
   ],
   "source": [
    "arr = np.array([1,2,3,4])\n",
    "print(arr) # 1-D array\n",
    "print('type(arr):', type(arr))\n",
    "print('arr.shape:', arr.shape)\n",
    "print('arr[0]:', arr[0])\n",
    "print('arr[3]:', arr[3])\n",
    "print('arr[4]:', arr[4])"
   ]
  },
  {
   "cell_type": "code",
   "execution_count": 47,
   "id": "d662c3b9-5184-42b5-b0f0-34f405741c96",
   "metadata": {},
   "outputs": [
    {
     "name": "stdout",
     "output_type": "stream",
     "text": [
      "[[1 2 3 4]\n",
      " [5 6 7 8]]\n",
      "type(arr): <class 'numpy.ndarray'>\n",
      "arr.shape: (2, 4)\n",
      "arr[0]: [1 2 3 4]\n",
      "arr[1,2]: 7\n"
     ]
    },
    {
     "ename": "IndexError",
     "evalue": "index 3 is out of bounds for axis 0 with size 2",
     "output_type": "error",
     "traceback": [
      "\u001b[0;31m---------------------------------------------------------------------------\u001b[0m",
      "\u001b[0;31mIndexError\u001b[0m                                Traceback (most recent call last)",
      "Input \u001b[0;32mIn [47]\u001b[0m, in \u001b[0;36m<cell line: 7>\u001b[0;34m()\u001b[0m\n\u001b[1;32m      5\u001b[0m \u001b[38;5;28mprint\u001b[39m(\u001b[38;5;124m'\u001b[39m\u001b[38;5;124marr[0]:\u001b[39m\u001b[38;5;124m'\u001b[39m, arr[\u001b[38;5;241m0\u001b[39m])\n\u001b[1;32m      6\u001b[0m \u001b[38;5;28mprint\u001b[39m(\u001b[38;5;124m'\u001b[39m\u001b[38;5;124marr[1,2]:\u001b[39m\u001b[38;5;124m'\u001b[39m, arr[\u001b[38;5;241m1\u001b[39m,\u001b[38;5;241m2\u001b[39m])\n\u001b[0;32m----> 7\u001b[0m \u001b[38;5;28mprint\u001b[39m(\u001b[38;5;124m'\u001b[39m\u001b[38;5;124marr[3]:\u001b[39m\u001b[38;5;124m'\u001b[39m, \u001b[43marr\u001b[49m\u001b[43m[\u001b[49m\u001b[38;5;241;43m3\u001b[39;49m\u001b[43m]\u001b[49m)\n",
      "\u001b[0;31mIndexError\u001b[0m: index 3 is out of bounds for axis 0 with size 2"
     ]
    }
   ],
   "source": [
    "arr = np.array([[1,2,3,4],[5,6,7,8]])\n",
    "print(arr) # 2-D array\n",
    "print('type(arr):', type(arr))\n",
    "print('arr.shape:', arr.shape)\n",
    "print('arr[0]:', arr[0])\n",
    "print('arr[1,2]:', arr[1,2])\n",
    "print('arr[3]:', arr[3])"
   ]
  },
  {
   "cell_type": "code",
   "execution_count": 53,
   "id": "c5e26f9f-ff1a-449d-8594-d57e3361c054",
   "metadata": {},
   "outputs": [
    {
     "name": "stdout",
     "output_type": "stream",
     "text": [
      "5\n",
      "5\n"
     ]
    }
   ],
   "source": [
    "print(arr.ndim) # deminsions of the NumPy array\n",
    "print(len(arr.shape))"
   ]
  },
  {
   "cell_type": "code",
   "execution_count": 55,
   "id": "231f744a-6e8f-41d2-8472-1bb735ce11f3",
   "metadata": {},
   "outputs": [
    {
     "name": "stdout",
     "output_type": "stream",
     "text": [
      "(1, 1, 1, 1, 4)\n",
      "[[[[[1 2 3 4]]]]]\n"
     ]
    }
   ],
   "source": [
    "arr = np.array([1,2,3,4], ndmin=5)\n",
    "print(arr.shape)\n",
    "print(arr)"
   ]
  },
  {
   "cell_type": "code",
   "execution_count": 61,
   "id": "7b2f139a-12d7-4535-bab5-fe4bc47e1701",
   "metadata": {},
   "outputs": [],
   "source": [
    "arr = np.array([1,2,3,4,5,6,7])"
   ]
  },
  {
   "cell_type": "code",
   "execution_count": 62,
   "id": "9337f594-1a0f-49bf-a525-cb598f27cc9d",
   "metadata": {},
   "outputs": [
    {
     "name": "stdout",
     "output_type": "stream",
     "text": [
      "[3 4]\n"
     ]
    }
   ],
   "source": [
    "print(arr[2:4]) #slicing"
   ]
  },
  {
   "cell_type": "code",
   "execution_count": 63,
   "id": "ed17fbbe-06d4-42bc-8d4a-1f8a59c799ee",
   "metadata": {},
   "outputs": [
    {
     "name": "stdout",
     "output_type": "stream",
     "text": [
      "[3 4 5 6 7]\n"
     ]
    }
   ],
   "source": [
    "print(arr[2:]) #slicing till the end"
   ]
  },
  {
   "cell_type": "code",
   "execution_count": 68,
   "id": "168cf4fa-20f9-4319-b6a5-7372e1f3d652",
   "metadata": {},
   "outputs": [
    {
     "name": "stdout",
     "output_type": "stream",
     "text": [
      "[1 3 5 7]\n"
     ]
    }
   ],
   "source": [
    "print(arr[::2]) # slicing with step 2"
   ]
  },
  {
   "cell_type": "code",
   "execution_count": 67,
   "id": "e23f381e-8edf-4184-8ee5-aadb2fcc56a5",
   "metadata": {},
   "outputs": [
    {
     "name": "stdout",
     "output_type": "stream",
     "text": [
      "[5 6 7]\n"
     ]
    }
   ],
   "source": [
    "print(arr[-3:]) # slicing starting from the third element from the right till the end"
   ]
  },
  {
   "cell_type": "code",
   "execution_count": 69,
   "id": "ef96c357-46ec-4925-a368-c0ccfe749097",
   "metadata": {},
   "outputs": [
    {
     "name": "stdout",
     "output_type": "stream",
     "text": [
      "[5 4 3 2 1]\n"
     ]
    }
   ],
   "source": [
    "print (arr[-3::-1]) #slicing startign from the third element from the right till the beginning with step 1"
   ]
  },
  {
   "cell_type": "code",
   "execution_count": 82,
   "id": "8b41d413-bba8-471f-8b20-24ca28d7c64b",
   "metadata": {},
   "outputs": [
    {
     "name": "stdout",
     "output_type": "stream",
     "text": [
      "Assigning array to variable\n",
      "arr_1: [  1   2 333]\n",
      "arr_2: [  1   2 333]\n",
      "\n",
      "Assigning array-copy to variable\n",
      "arr_1: [  1   2 333]\n",
      "arr_2: [  1 222 333]\n"
     ]
    }
   ],
   "source": [
    "arr_1 = np.array([1,2,3])\n",
    "\n",
    "print(\"Assigning array to variable\")\n",
    "arr_2 = arr_1 \n",
    "arr_2[2] = 333\n",
    "print('arr_1:', arr_1)\n",
    "print('arr_2:', arr_2)\n",
    "\n",
    "print(\"\\nAssigning array-copy to variable\")\n",
    "arr_2 = arr_1.copy()\n",
    "arr_2[1] = 222\n",
    "print('arr_1:', arr_1)\n",
    "print('arr_2:', arr_2)\n"
   ]
  },
  {
   "cell_type": "code",
   "execution_count": 85,
   "id": "808e6191-93d0-458f-8c0f-9b4e456b4370",
   "metadata": {},
   "outputs": [],
   "source": [
    "arr = np.array([1,2,3,4,5,6,7,8,9,10,11,12])"
   ]
  },
  {
   "cell_type": "code",
   "execution_count": 87,
   "id": "a8ff94aa-7fcb-474f-ab92-926f910b0b2b",
   "metadata": {},
   "outputs": [
    {
     "name": "stdout",
     "output_type": "stream",
     "text": [
      "[[ 1  2  3]\n",
      " [ 4  5  6]\n",
      " [ 7  8  9]\n",
      " [10 11 12]]\n"
     ]
    }
   ],
   "source": [
    "print(arr.reshape((4,3))) # reshape from (12) to (4,3)"
   ]
  },
  {
   "cell_type": "code",
   "execution_count": 93,
   "id": "1d6d8173-28c3-47b7-8bcd-909c9ba53def",
   "metadata": {},
   "outputs": [
    {
     "name": "stdout",
     "output_type": "stream",
     "text": [
      "[[[ 1  2]\n",
      "  [ 3  4]\n",
      "  [ 5  6]]\n",
      "\n",
      " [[ 7  8]\n",
      "  [ 9 10]\n",
      "  [11 12]]]\n"
     ]
    }
   ],
   "source": [
    "print(arr.reshape((2,3,2))) # reshape from (12) to (2,3,2)"
   ]
  },
  {
   "cell_type": "code",
   "execution_count": 101,
   "id": "c9b27f7e-35c5-4fe0-aa47-79906010f702",
   "metadata": {},
   "outputs": [
    {
     "name": "stdout",
     "output_type": "stream",
     "text": [
      "[[99  2  3  4  5  6]\n",
      " [ 7  8  9 10 11 12]]\n"
     ]
    }
   ],
   "source": [
    "print(arr.reshape((2,-1))) # reshape from (12) to (2,whatever)"
   ]
  },
  {
   "cell_type": "code",
   "execution_count": 115,
   "id": "15735de1-2d63-451c-a132-8318578bcdb7",
   "metadata": {},
   "outputs": [
    {
     "name": "stdout",
     "output_type": "stream",
     "text": [
      "[[ 1  2]\n",
      " [ 3  4]\n",
      " [ 5  6]\n",
      " [ 7  8]\n",
      " [ 9 10]\n",
      " [11 12]]\n",
      "\n",
      "[[ 1 99]\n",
      " [ 3  4]\n",
      " [ 5  6]\n",
      " [ 7  8]\n",
      " [ 9 10]\n",
      " [11 12]]\n",
      "\n",
      "[ 1 99  3  4  5  6  7  8  9 10 11 12]\n"
     ]
    }
   ],
   "source": [
    "arr = np.array([1,2,3,4,5,6,7,8,9,10,11,12])\n",
    "arr_2 = arr.reshape(6,2) # reshape returns a view for the original array\n",
    "print(arr_2)\n",
    "arr_2[0,1] = 99\n",
    "print()\n",
    "print(arr_2)\n",
    "print()\n",
    "print(arr)"
   ]
  },
  {
   "cell_type": "code",
   "execution_count": 120,
   "id": "f25bbae7-7e02-43d5-b77d-449362e75b9d",
   "metadata": {},
   "outputs": [
    {
     "name": "stdout",
     "output_type": "stream",
     "text": [
      "[[1 2 3]\n",
      " [4 5 6]]\n",
      "\n",
      "[1 2 3 4 5 6]\n"
     ]
    }
   ],
   "source": [
    "arr = np.array([[1,2,3], [4,5,6]])\n",
    "print(arr)\n",
    "print()\n",
    "print(arr.reshape(-1))"
   ]
  },
  {
   "cell_type": "code",
   "execution_count": 123,
   "id": "d81243e6-4da5-4c91-872f-12dc6f8e6dfa",
   "metadata": {},
   "outputs": [
    {
     "name": "stdout",
     "output_type": "stream",
     "text": [
      "[[[1 2]\n",
      "  [3 4]]\n",
      "\n",
      " [[5 6]\n",
      "  [7 8]]]\n"
     ]
    }
   ],
   "source": [
    "arr = np.array([[[1, 2], [3, 4]], [[5, 6], [7, 8]]])\n",
    "print(arr)"
   ]
  },
  {
   "cell_type": "code",
   "execution_count": 126,
   "id": "79b78f46-7f5d-4431-a66d-3622bc5c22a4",
   "metadata": {},
   "outputs": [
    {
     "name": "stdout",
     "output_type": "stream",
     "text": [
      "i: [[1 2]\n",
      " [3 4]]\n",
      "\tj: [1 2]\n",
      "\t\tk: 1\n",
      "\t\tk: 2\n",
      "\tj: [3 4]\n",
      "\t\tk: 3\n",
      "\t\tk: 4\n",
      "i: [[5 6]\n",
      " [7 8]]\n",
      "\tj: [5 6]\n",
      "\t\tk: 5\n",
      "\t\tk: 6\n",
      "\tj: [7 8]\n",
      "\t\tk: 7\n",
      "\t\tk: 8\n"
     ]
    }
   ],
   "source": [
    "for i in arr:\n",
    "    print('i:', i)\n",
    "    for j in i:\n",
    "        print('\\tj:', j)\n",
    "        for k in j:\n",
    "            print('\\t\\tk:', k)"
   ]
  },
  {
   "cell_type": "code",
   "execution_count": 130,
   "id": "45786282-ba79-49b4-9ae1-a06d2e22476b",
   "metadata": {},
   "outputs": [
    {
     "name": "stdout",
     "output_type": "stream",
     "text": [
      "1\n",
      "2\n",
      "3\n",
      "4\n",
      "5\n",
      "6\n",
      "7\n",
      "8\n"
     ]
    }
   ],
   "source": [
    "for i in np.nditer(arr):\n",
    "    print(i)"
   ]
  },
  {
   "cell_type": "code",
   "execution_count": 132,
   "id": "049f52e1-0f75-46a1-90a6-643d193a6abd",
   "metadata": {},
   "outputs": [
    {
     "name": "stdout",
     "output_type": "stream",
     "text": [
      "[1 2 3 4 5 6]\n"
     ]
    }
   ],
   "source": [
    "arr1 = np.array([1, 2, 3])\n",
    "\n",
    "arr2 = np.array([4, 5, 6])\n",
    "\n",
    "arr = np.concatenate((arr1, arr2))\n",
    "\n",
    "print(arr)"
   ]
  },
  {
   "cell_type": "code",
   "execution_count": 134,
   "id": "807831a5-a579-4cae-85e5-ddf552f406fb",
   "metadata": {},
   "outputs": [
    {
     "name": "stdout",
     "output_type": "stream",
     "text": [
      "[[1 2 5 6]\n",
      " [3 4 7 8]]\n"
     ]
    }
   ],
   "source": [
    "arr1 = np.array([[1, 2], [3, 4]])\n",
    "\n",
    "arr2 = np.array([[5, 6], [7, 8]])\n",
    "\n",
    "arr = np.concatenate((arr1, arr2), axis=1)\n",
    "\n",
    "print(arr)"
   ]
  },
  {
   "cell_type": "code",
   "execution_count": 139,
   "id": "966eaf06-e0bd-4cd8-a8f3-660efe240fa3",
   "metadata": {},
   "outputs": [
    {
     "name": "stdout",
     "output_type": "stream",
     "text": [
      "[[1 2 3]\n",
      " [4 5 6]]\n",
      "\n",
      "[[1 4]\n",
      " [2 5]\n",
      " [3 6]]\n"
     ]
    }
   ],
   "source": [
    "arr1 = np.array([1, 2, 3])\n",
    "\n",
    "arr2 = np.array([4, 5, 6])\n",
    "\n",
    "arr = np.stack((arr1, arr2))\n",
    "print(arr)\n",
    "print()\n",
    "arr = np.stack((arr1, arr2), axis=1)\n",
    "print(arr)"
   ]
  },
  {
   "cell_type": "code",
   "execution_count": 141,
   "id": "0737d3e1-f0d7-45a2-8a97-414338b1d8b1",
   "metadata": {},
   "outputs": [
    {
     "name": "stdout",
     "output_type": "stream",
     "text": [
      "[array([1, 2]), array([3, 4]), array([5]), array([6])]\n"
     ]
    }
   ],
   "source": [
    "arr = np.array([1, 2, 3, 4, 5, 6])\n",
    "\n",
    "newarr = np.array_split(arr, 4)\n",
    "\n",
    "print(newarr)"
   ]
  },
  {
   "cell_type": "code",
   "execution_count": 146,
   "id": "06b1e768-a13e-470e-9c6c-8e0f1ed44e62",
   "metadata": {},
   "outputs": [
    {
     "name": "stdout",
     "output_type": "stream",
     "text": [
      "(array([3, 5, 6]),)\n"
     ]
    }
   ],
   "source": [
    "arr = np.array([1, 2, 3, 4, 5, 4, 4])\n",
    "\n",
    "print( np.where(arr == 4))"
   ]
  },
  {
   "cell_type": "code",
   "execution_count": 149,
   "id": "bc886221-8a27-4ee2-8f38-8a84235d8e57",
   "metadata": {},
   "outputs": [
    {
     "name": "stdout",
     "output_type": "stream",
     "text": [
      "[0 1 2 3]\n"
     ]
    }
   ],
   "source": [
    "arr = np.array([3, 2, 0, 1])\n",
    "\n",
    "print(np.sort(arr))"
   ]
  },
  {
   "cell_type": "code",
   "execution_count": 153,
   "id": "f858a38e-bb3b-41bf-b74b-161511cb3a30",
   "metadata": {},
   "outputs": [
    {
     "name": "stdout",
     "output_type": "stream",
     "text": [
      "[[2 3 4]\n",
      " [0 1 5]]\n"
     ]
    }
   ],
   "source": [
    "arr = np.array([[3, 2, 4], [5, 0, 1]])\n",
    "\n",
    "print(np.sort(arr))"
   ]
  },
  {
   "cell_type": "code",
   "execution_count": 166,
   "id": "dbc85872-998a-4999-8b31-1002323cf03d",
   "metadata": {},
   "outputs": [
    {
     "name": "stdout",
     "output_type": "stream",
     "text": [
      "[0 1 2 3 4 5 6 7 8 9]\n",
      "[array([False, False, False, False, False, False, False, False,  True,\n",
      "        True])]\n",
      "[8 9]\n"
     ]
    }
   ],
   "source": [
    "arr = np.arange(10)\n",
    "\n",
    "print(arr)\n",
    "\n",
    "print([arr>7])\n",
    "\n",
    "print(arr[arr>7])"
   ]
  },
  {
   "cell_type": "code",
   "execution_count": 253,
   "id": "0080f31a-7d6a-463b-81da-b492be9eb289",
   "metadata": {},
   "outputs": [
    {
     "name": "stdout",
     "output_type": "stream",
     "text": [
      "69\n",
      "\n",
      "0.6689963626994175\n",
      "\n",
      "[[20 79]\n",
      " [99 45]\n",
      " [72 51]]\n",
      "\n",
      "[0.79128347 0.71306665 0.61800103 0.70676265 0.15253535 0.10026946\n",
      " 0.34250941 0.97822989 0.88144669 0.099073  ]\n",
      "\n",
      "[[0.6392073  0.60639403]\n",
      " [0.53096467 0.13553979]\n",
      " [0.63812617 0.33839174]\n",
      " [0.11523351 0.10270136]\n",
      " [0.16409917 0.0412766 ]\n",
      " [0.22859886 0.27532929]\n",
      " [0.46738024 0.89338548]\n",
      " [0.03739342 0.97102416]\n",
      " [0.34014675 0.84793477]\n",
      " [0.15926268 0.27951474]]\n"
     ]
    }
   ],
   "source": [
    "print(np.random.randint(100))\n",
    "print()\n",
    "print(np.random.rand())\n",
    "print()\n",
    "print(np.random.randint(100, size=(3,2)))\n",
    "print()\n",
    "print(np.random.rand(10))\n",
    "print()\n",
    "print(np.random.rand(10,2))"
   ]
  },
  {
   "cell_type": "code",
   "execution_count": 279,
   "id": "1874720e-be1b-47ba-aa57-3b99f8bdb8c6",
   "metadata": {},
   "outputs": [
    {
     "name": "stdout",
     "output_type": "stream",
     "text": [
      "5\n"
     ]
    }
   ],
   "source": [
    "x = np.random.choice([3, 5, 7, 9])\n",
    "\n",
    "print(x)"
   ]
  },
  {
   "cell_type": "code",
   "execution_count": 284,
   "id": "b1af4b1b-90d6-433a-a467-0ad38ac9c452",
   "metadata": {},
   "outputs": [
    {
     "name": "stdout",
     "output_type": "stream",
     "text": [
      "[[5 9 3 7 5]\n",
      " [9 7 5 7 3]\n",
      " [9 3 3 5 3]]\n"
     ]
    }
   ],
   "source": [
    "x = np.random.choice([3, 5, 7, 9], size=(3,5))\n",
    "\n",
    "print(x)"
   ]
  },
  {
   "cell_type": "code",
   "execution_count": 299,
   "id": "f3c49239-dda3-438b-958f-e753ed7221d1",
   "metadata": {},
   "outputs": [
    {
     "name": "stdout",
     "output_type": "stream",
     "text": [
      "[1, 2, 3, 4, 5, 6, 7, 8]\n",
      "[ 6  8 10 12]\n",
      "[ 6  8 10 12]\n",
      "24\n",
      "[ 6  8 10]\n",
      "[ 6 18]\n",
      "[ 1  3  6 10]\n"
     ]
    }
   ],
   "source": [
    "lst_1 = [1,2,3,4]\n",
    "lst_2 = [5,6,7,8]\n",
    "print (lst_1+lst_2)\n",
    "arr_1 = np.array(lst_1)\n",
    "arr_2 = np.array(lst_2)\n",
    "\n",
    "print(arr_1+arr_2)\n",
    "\n",
    "print(np.add(lst_1,lst_2))\n",
    "\n",
    "lst = [[1,2,3], [5,6,7]]\n",
    "# print(sum(lst))\n",
    "print(np.sum(lst))\n",
    "print(np.sum(lst, axis=0))\n",
    "print(np.sum(lst, axis=1))\n",
    "\n",
    "print(np.cumsum(lst_1)) # 1,1+2,1+2+3,1+2+3+4"
   ]
  },
  {
   "cell_type": "code",
   "execution_count": 305,
   "id": "e8f271f9-2f3b-40b2-9a38-06ea64371e46",
   "metadata": {},
   "outputs": [
    {
     "name": "stdout",
     "output_type": "stream",
     "text": [
      "40320\n",
      "[  24 1680]\n",
      "[ 1  2  6 24]\n"
     ]
    }
   ],
   "source": [
    "print(np.prod([lst_1,lst_2]))\n",
    "print(np.prod([lst_1,lst_2], axis=1))\n",
    "print(np.cumprod(lst))"
   ]
  }
 ],
 "metadata": {
  "kernelspec": {
   "display_name": "Python 3 (ipykernel)",
   "language": "python",
   "name": "python3"
  },
  "language_info": {
   "codemirror_mode": {
    "name": "ipython",
    "version": 3
   },
   "file_extension": ".py",
   "mimetype": "text/x-python",
   "name": "python",
   "nbconvert_exporter": "python",
   "pygments_lexer": "ipython3",
   "version": "3.10.6"
  }
 },
 "nbformat": 4,
 "nbformat_minor": 5
}
